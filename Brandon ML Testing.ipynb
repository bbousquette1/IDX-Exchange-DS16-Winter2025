{
 "cells": [
  {
   "cell_type": "code",
   "execution_count": 65,
   "id": "cd354050-fec6-4d80-9cf8-cb43c44a67b2",
   "metadata": {},
   "outputs": [],
   "source": [
    "import numpy as np\n",
    "import pandas as pd\n",
    "import matplotlib.pyplot as plt\n",
    "from sklearn.model_selection import train_test_split\n",
    "from sklearn.ensemble import RandomForestRegressor\n",
    "from sklearn.metrics import mean_absolute_error, mean_squared_error, r2_score"
   ]
  },
  {
   "cell_type": "code",
   "execution_count": 66,
   "id": "4d8adbd8-66c8-49a4-8f05-e87942cca71d",
   "metadata": {},
   "outputs": [],
   "source": [
    "dfJun = pd.read_csv(\"C:/Users/brand/OneDrive/Documents/IDX Exchange/CRMLSSold202406_filled.csv\")"
   ]
  },
  {
   "cell_type": "code",
   "execution_count": 67,
   "id": "46d33930-35a6-482c-8d85-73d744632a46",
   "metadata": {},
   "outputs": [],
   "source": [
    "selected_cols = [\n",
    "    \"PoolPrivateYN\", \"ViewYN\", \"OriginalListPrice\", \"TaxAnnualAmount\", \n",
    "    \"BedroomsTotal\", \"BathroomsTotalInteger\", \"YearBuilt\", \"BasementYN\", \n",
    "    \"LivingArea\", \"PropertyType\", \"PostalCode\", \"Flooring\", \"AttachedGarageYN\"\n",
    "]\n",
    "df_clean = dfJun[selected_cols].copy()\n",
    "\n",
    "# fill numeric columns with median\n",
    "num_cols = [\"OriginalListPrice\", \"TaxAnnualAmount\", \"BedroomsTotal\", \n",
    "            \"BathroomsTotalInteger\", \"YearBuilt\", \"LivingArea\"]\n",
    "df_clean[num_cols] = df_clean[num_cols].fillna(df_clean[num_cols].median())\n",
    "\n",
    "binary_cols = [\"PoolPrivateYN\", \"ViewYN\", \"BasementYN\", \"AttachedGarageYN\"]\n",
    "\n",
    "# fill NaNs with \"N\" before conversion\n",
    "df_clean[binary_cols] = df_clean[binary_cols].fillna(\"N\")\n",
    "\n",
    "# convert \"Y\" into 1, \"N\" into 0, and change type to integer\n",
    "df_clean[binary_cols] = df_clean[binary_cols].replace({\"Y\": 1, \"N\": 0}).astype(int)\n",
    "\n",
    "# fill categorical variables with \"Unknown\"\n",
    "cat_cols = [\"PropertyType\", \"Flooring\", \"PostalCode\"]\n",
    "df_clean[cat_cols] = df_clean[cat_cols].fillna(\"Unknown\")\n",
    "\n",
    "df_clean[\"PostalCode\"] = df_clean[\"PostalCode\"].astype(\"category\").cat.codes\n",
    "df_clean[\"PropertyType\"] = df_clean[\"PropertyType\"].astype(\"category\").cat.codes\n",
    "df_clean[\"Flooring\"] = df_clean[\"Flooring\"].astype(\"category\").cat.codes"
   ]
  },
  {
   "cell_type": "code",
   "execution_count": 68,
   "id": "be0719b5-78de-4a26-90bf-a145ccdcd4e8",
   "metadata": {},
   "outputs": [],
   "source": [
    "df_clean[\"log_price\"] = np.log1p(df_clean[\"OriginalListPrice\"])\n",
    "\n",
    "X = df_clean.drop(columns=[\"log_price\",\"OriginalListPrice\"])\n",
    "Y = df_clean[\"log_price\"]"
   ]
  },
  {
   "cell_type": "code",
   "execution_count": null,
   "id": "a6472365-a09d-41f8-a286-9e4373bc165d",
   "metadata": {},
   "outputs": [],
   "source": [
    "X_train, X_test, Y_train, Y_test = train_test_split(X, Y, test_size=0.2, random_state=42)\n",
    "\n",
    "rf = RandomForestRegressor(n_estimators=100, random_state=42)\n",
    "rf.fit(X_train, Y_train)"
   ]
  },
  {
   "cell_type": "code",
   "execution_count": null,
   "id": "1f9b5adc-c6a0-4e01-9406-db6a9b282c57",
   "metadata": {},
   "outputs": [],
   "source": [
    "Y_pred = rf.predict(X_test)\n",
    "mse = mean_squared_error(Y_test, Y_pred)\n",
    "r2 = r2_score(Y_test, Y_pred)\n",
    "\n",
    "print(f\"Mean Squared Error is {mse:.4f}\")\n",
    "print(f\"R2 Score is {r2:.4f}\")"
   ]
  },
  {
   "cell_type": "code",
   "execution_count": null,
   "id": "a38e7aa5-a352-42e6-bd2a-7e8bdd8de4d0",
   "metadata": {},
   "outputs": [],
   "source": [
    "importances = rf.feature_importances_\n",
    "feature_names = X.columns\n",
    "\n",
    "plt.figure(figsize=(10, 6))\n",
    "plt.barh(feature_names, importances, color='skyblue')\n",
    "plt.xlabel(\"Feature Importance\")\n",
    "plt.ylabel(\"Features\")\n",
    "plt.title(\"Random Forest Feature Importance\")\n",
    "plt.show()\n"
   ]
  },
  {
   "cell_type": "code",
   "execution_count": 59,
   "id": "b4854363-faf8-41c0-b8b4-f4a3cc6f46b5",
   "metadata": {},
   "outputs": [],
   "source": [
    "# Select new features for regression\n",
    "new_features = [\n",
    "    \"DaysOnMarket\", \"LotSizeSquareFeet\", \"Stories\", \"GarageSpaces\", \"ParkingTotal\",\n",
    "    \"NewConstructionYN\", \"HighSchoolDistrict\", \"SubdivisionName\", \"MLSAreaMajor\"\n",
    "]\n",
    "\n",
    "df_new = dfJun[new_features + [\"OriginalListPrice\"]].copy()\n"
   ]
  },
  {
   "cell_type": "code",
   "execution_count": 60,
   "id": "69e7ca18-2104-4be4-ad5b-e27e560dc27f",
   "metadata": {},
   "outputs": [],
   "source": [
    "# Fill numerical columns with median\n",
    "num_cols = [\"DaysOnMarket\", \"LotSizeSquareFeet\", \"Stories\", \"GarageSpaces\", \"ParkingTotal\", \"OriginalListPrice\"]\n",
    "df_new[num_cols] = df_new[num_cols].fillna(df_new[num_cols].median())\n",
    "\n",
    "# Fill categorical features with \"Unknown\"\n",
    "cat_cols = [\"SubdivisionName\", \"MLSAreaMajor\", \"HighSchoolDistrict\"]\n",
    "df_new[cat_cols] = df_new[cat_cols].fillna(\"Unknown\")\n",
    "\n",
    "# Convert \"Y/N\" column to 0/1\n",
    "df_new[\"NewConstructionYN\"] = df_new[\"NewConstructionYN\"].fillna(\"N\")\n",
    "df_new[\"NewConstructionYN\"] = df_new[\"NewConstructionYN\"].replace({\"Y\": 1, \"N\": 0}).astype(int)\n",
    "\n",
    "df_new[\"SubdivisionName\"] = df_new[\"SubdivisionName\"].astype(\"category\").cat.codes\n",
    "df_new[\"MLSAreaMajor\"] = df_new[\"MLSAreaMajor\"].astype(\"category\").cat.codes\n",
    "df_new[\"HighSchoolDistrict\"] = df_new[\"HighSchoolDistrict\"].astype(\"category\").cat.codes\n",
    "\n",
    "df_new[\"log_price\"] = np.log1p(df_new[\"OriginalListPrice\"])\n"
   ]
  },
  {
   "cell_type": "code",
   "execution_count": 63,
   "id": "566fcf56-fc31-4098-a073-3f9af2960986",
   "metadata": {},
   "outputs": [
    {
     "name": "stdout",
     "output_type": "stream",
     "text": [
      "New Model - Mean Squared Error: 4.5620\n",
      "New Model - R² Score: 0.1651\n"
     ]
    }
   ],
   "source": [
    "# Define X (features) and y (target)\n",
    "X = df_new.drop(columns=[\"log_price\", \"OriginalListPrice\"])\n",
    "y = df_new[\"log_price\"]\n",
    "\n",
    "# Train/test split\n",
    "X_train, X_test, y_train, y_test = train_test_split(X, y, test_size=0.2, random_state=42)\n",
    "\n",
    "# Train model\n",
    "rf = RandomForestRegressor(n_estimators=100, random_state=42)\n",
    "rf.fit(X_train, y_train)\n",
    "\n",
    "# Make predictions\n",
    "y_pred = rf.predict(X_test)\n",
    "\n",
    "# Evaluate model\n",
    "mse = mean_squared_error(y_test, y_pred)\n",
    "r2 = r2_score(y_test, y_pred)\n",
    "\n",
    "print(f\"New Model - Mean Squared Error: {mse:.4f}\")\n",
    "print(f\"New Model - R² Score: {r2:.4f}\")"
   ]
  },
  {
   "cell_type": "code",
   "execution_count": 64,
   "id": "d6b6f198-0c6a-4b43-a94a-0cf842d86839",
   "metadata": {},
   "outputs": [
    {
     "data": {
      "image/png": "[encoded data removed]",
      "text/plain": [
       "<Figure size 1000x600 with 1 Axes>"
      ]
     },
     "metadata": {},
     "output_type": "display_data"
    }
   ],
   "source": [
    "importances = rf.feature_importances_\n",
    "feature_names = X.columns\n",
    "\n",
    "plt.figure(figsize=(10, 6))\n",
    "plt.barh(feature_names, importances, color='skyblue')\n",
    "plt.xlabel(\"Feature Importance\")\n",
    "plt.ylabel(\"Features\")\n",
    "plt.title(\"Random Forest Feature Importance (New Model)\")\n",
    "plt.show()\n"
   ]
  },
  {
   "cell_type": "code",
   "execution_count": null,
   "id": "28abea17-0764-4087-a9f1-f08217e2a3fc",
   "metadata": {},
   "outputs": [],
   "source": []
  }
 ],
 "metadata": {
  "kernelspec": {
   "display_name": "Python 3 (ipykernel)",
   "language": "python",
   "name": "python3"
  },
  "language_info": {
   "codemirror_mode": {
    "name": "ipython",
    "version": 3
   },
   "file_extension": ".py",
   "mimetype": "text/x-python",
   "name": "python",
   "nbconvert_exporter": "python",
   "pygments_lexer": "ipython3",
   "version": "3.11.5"
  }
 },
 "nbformat": 4,
 "nbformat_minor": 5
}
