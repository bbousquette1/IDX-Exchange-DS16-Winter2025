{
 "cells": [
  {
   "cell_type": "code",
   "execution_count": 190,
   "metadata": {},
   "outputs": [],
   "source": [
    "import tensorflow as tf\n",
    "from tensorflow import keras\n",
    "from tensorflow.keras import layers\n",
    "import numpy as np\n",
    "import pandas as pd\n",
    "from sklearn.model_selection import train_test_split\n",
    "import pandas as pd\n",
    "import matplotlib.pyplot as plt"
   ]
  },
  {
   "cell_type": "code",
   "execution_count": 191,
   "metadata": {},
   "outputs": [
    {
     "name": "stderr",
     "output_type": "stream",
     "text": [
      "/var/folders/r6/j2xslqfj0lg0bxy1nj8b6fzm0000gn/T/ipykernel_12492/4080523743.py:1: DtypeWarning: Columns (5,79,80) have mixed types. Specify dtype option on import or set low_memory=False.\n",
      "  df = pd.read_csv(\"data/updated_data.csv\")\n"
     ]
    }
   ],
   "source": [
    "df = pd.read_csv(\"data/updated_data.csv\")\n",
    "\n",
    "df = df.iloc[:, 1:]"
   ]
  },
  {
   "cell_type": "code",
   "execution_count": 192,
   "metadata": {},
   "outputs": [
    {
     "data": {
      "text/plain": [
       "Index(['BuyerAgentAOR', 'ListAgentAOR', 'Flooring', 'ViewYN', 'WaterfrontYN',\n",
       "       'BasementYN', 'PoolPrivateYN', 'OriginalListPrice', 'ListingKey',\n",
       "       'ListAgentEmail', 'CloseDate', 'ClosePrice', 'ListAgentFirstName',\n",
       "       'ListAgentLastName', 'Latitude', 'Longitude', 'UnparsedAddress',\n",
       "       'PropertyType', 'LivingArea', 'ListPrice', 'DaysOnMarket',\n",
       "       'ListOfficeName', 'BuyerOfficeName', 'CoListOfficeName',\n",
       "       'ListAgentFullName', 'CoListAgentFirstName', 'CoListAgentLastName',\n",
       "       'BuyerAgentMlsId', 'BuyerAgentFirstName', 'BuyerAgentLastName',\n",
       "       'FireplacesTotal', 'AssociationFeeFrequency', 'AboveGradeFinishedArea',\n",
       "       'ListingKeyNumeric', 'MLSAreaMajor', 'TaxAnnualAmount',\n",
       "       'CountyOrParish', 'MlsStatus', 'ElementarySchool', 'AttachedGarageYN',\n",
       "       'ParkingTotal', 'BuilderName', 'PropertySubType', 'LotSizeAcres',\n",
       "       'SubdivisionName', 'BuyerOfficeAOR', 'YearBuilt', 'StreetNumberNumeric',\n",
       "       'ListingId', 'BathroomsTotalInteger', 'City', 'TaxYear',\n",
       "       'BuildingAreaTotal', 'BedroomsTotal', 'ContractStatusChangeDate',\n",
       "       'ElementarySchoolDistrict', 'CoBuyerAgentFirstName',\n",
       "       'PurchaseContractDate', 'ListingContractDate', 'BelowGradeFinishedArea',\n",
       "       'BusinessType', 'StateOrProvince', 'CoveredSpaces',\n",
       "       'MiddleOrJuniorSchool', 'FireplaceYN', 'Stories', 'HighSchool',\n",
       "       'Levels', 'LotSizeDimensions', 'LotSizeArea', 'MainLevelBedrooms',\n",
       "       'NewConstructionYN', 'GarageSpaces', 'HighSchoolDistrict', 'PostalCode',\n",
       "       'AssociationFee', 'LotSizeSquareFeet', 'MiddleOrJuniorSchoolDistrict',\n",
       "       'latfilled', 'lonfilled', 'mean_zhi', 'median_sale_price'],\n",
       "      dtype='object')"
      ]
     },
     "execution_count": 192,
     "metadata": {},
     "output_type": "execute_result"
    }
   ],
   "source": [
    "df.columns"
   ]
  },
  {
   "cell_type": "code",
   "execution_count": 193,
   "metadata": {},
   "outputs": [
    {
     "data": {
      "text/plain": [
       "16153"
      ]
     },
     "execution_count": 193,
     "metadata": {},
     "output_type": "execute_result"
    }
   ],
   "source": [
    "df['Stories'].isna().sum()"
   ]
  },
  {
   "cell_type": "code",
   "execution_count": 194,
   "metadata": {},
   "outputs": [],
   "source": [
    "columns = ['PostalCode', 'PoolPrivateYN', 'ViewYN', 'AttachedGarageYN', 'BasementYN', 'FireplaceYN', \n",
    "           'WaterfrontYN', 'DaysOnMarket', 'BedroomsTotal','BathroomsTotalInteger', 'YearBuilt', 'LivingArea',\n",
    "            'ElementarySchool', 'ElementarySchoolDistrict', 'MiddleOrJuniorSchool', 'MiddleOrJuniorSchoolDistrict', \n",
    "            'HighSchool', 'HighSchoolDistrict', 'ClosePrice', 'mean_zhi', 'median_sale_price', 'Stories']\n",
    "df = df[columns]"
   ]
  },
  {
   "cell_type": "code",
   "execution_count": 195,
   "metadata": {},
   "outputs": [
    {
     "data": {
      "text/plain": [
       "110533"
      ]
     },
     "execution_count": 195,
     "metadata": {},
     "output_type": "execute_result"
    }
   ],
   "source": [
    "df.shape[0]"
   ]
  },
  {
   "cell_type": "code",
   "execution_count": 196,
   "metadata": {},
   "outputs": [
    {
     "data": {
      "text/plain": [
       "PostalCode                           0\n",
       "PoolPrivateYN                    12486\n",
       "ViewYN                            9917\n",
       "AttachedGarageYN                 12329\n",
       "BasementYN                      107795\n",
       "FireplaceYN                         65\n",
       "WaterfrontYN                    110500\n",
       "DaysOnMarket                         0\n",
       "BedroomsTotal                        0\n",
       "BathroomsTotalInteger               20\n",
       "YearBuilt                           82\n",
       "LivingArea                          57\n",
       "ElementarySchool                 94558\n",
       "ElementarySchoolDistrict        110533\n",
       "MiddleOrJuniorSchool             94430\n",
       "MiddleOrJuniorSchoolDistrict    110533\n",
       "HighSchool                       89689\n",
       "HighSchoolDistrict               28009\n",
       "ClosePrice                           2\n",
       "mean_zhi                           846\n",
       "median_sale_price                  983\n",
       "Stories                          16153\n",
       "dtype: int64"
      ]
     },
     "execution_count": 196,
     "metadata": {},
     "output_type": "execute_result"
    }
   ],
   "source": [
    "df.isna().sum()"
   ]
  },
  {
   "cell_type": "code",
   "execution_count": 197,
   "metadata": {},
   "outputs": [],
   "source": [
    "# def fill_missing(df):\n",
    "#     output = df.copy()\n",
    "#     def mean_impute_numerical(col):\n",
    "#         return col.fillna(col.mean())\n",
    "    \n",
    "#     def median_impute(col):\n",
    "#         median = col.median()\n",
    "#         return col.fillna(median)\n",
    "    \n",
    "#     # impute these values based on the mean value of postal code\n",
    "#     for col in ['BathroomsTotalInteger', 'YearBuilt', 'LivingArea']:\n",
    "#         new_col = output.groupby('PostalCode')[col].transform(mean_impute_numerical)\n",
    "#         output[col] = new_col\n",
    "\n",
    "#     # if percentage of True is above 0.5, fill in missing values with True, else False\n",
    "#     def mean_impute_TF(col):\n",
    "#         if col.mean() > 0.5:\n",
    "#             return col.fillna(True)\n",
    "#         return col.fillna(False)\n",
    "    \n",
    "#     # use above function to impute\n",
    "#     for col in ['PoolPrivateYN', 'ViewYN', 'AttachedGarageYN']:\n",
    "#         new_col = output.groupby('PostalCode')[col].transform(mean_impute_TF)\n",
    "#         output[col] = new_col\n",
    "\n",
    "#     # fill in other missing values for homes that are in their only zip code\n",
    "#     for col in ['BathroomsTotalInteger', 'YearBuilt', 'LivingArea']:\n",
    "#         output[col] = mean_impute_numerical(output[col])\n",
    "#     for col in ['PoolPrivateYN', 'ViewYN', 'AttachedGarageYN']:\n",
    "#         output[col] = mean_impute_TF(output[col])\n",
    "\n",
    "#     # fill in missing values for monthly zestimates with median\n",
    "#     for col in ['January', 'median_sale_price']:\n",
    "#         output[col] = median_impute(output[col])\n",
    "        \n",
    "#     output = output.dropna(subset=['ClosePrice']) # drop where ClosePrice is missing\n",
    "    \n",
    "#     return output"
   ]
  },
  {
   "cell_type": "code",
   "execution_count": 198,
   "metadata": {},
   "outputs": [],
   "source": [
    "def fill_missing(df):\n",
    "    output = df.copy()\n",
    "    def mean_impute_numerical(col):\n",
    "        return col.fillna(col.mean())\n",
    "    \n",
    "    def median_impute(col):\n",
    "        median = col.median()\n",
    "        return col.fillna(median)\n",
    "    \n",
    "    # impute these values based on the mean value of postal code\n",
    "    for col in ['BathroomsTotalInteger', 'YearBuilt', 'LivingArea', 'BedroomsTotal']:\n",
    "        new_col = output.groupby('PostalCode')[col].transform(mean_impute_numerical)\n",
    "        output[col] = new_col\n",
    "\n",
    "    # fill in other missing values for homes that are in their only zip code\n",
    "    for col in ['BathroomsTotalInteger', 'YearBuilt', 'LivingArea', 'BedroomsTotal']:\n",
    "        output[col] = mean_impute_numerical(output[col])\n",
    "\n",
    "    # fill in missing values for monthly zestimates with median\n",
    "    for col in ['mean_zhi', 'median_sale_price']:\n",
    "        output[col] = median_impute(output[col])\n",
    "    \n",
    "    output['Stories'] = mean_impute_numerical(output['Stories'])\n",
    "    output = output.dropna(subset=['ClosePrice']) # drop where ClosePrice is missing\n",
    "    \n",
    "    return output"
   ]
  },
  {
   "cell_type": "code",
   "execution_count": 199,
   "metadata": {},
   "outputs": [
    {
     "data": {
      "text/plain": [
       "<matplotlib.collections.PathCollection at 0x32e16c6b0>"
      ]
     },
     "execution_count": 199,
     "metadata": {},
     "output_type": "execute_result"
    },
    {
     "data": {
      "image/png": "[encoded data removed]",
      "text/plain": [
       "<Figure size 640x480 with 1 Axes>"
      ]
     },
     "metadata": {},
     "output_type": "display_data"
    }
   ],
   "source": [
    "plt.scatter(df['ClosePrice'], [0] * df['ClosePrice'].shape[0])"
   ]
  },
  {
   "cell_type": "code",
   "execution_count": 200,
   "metadata": {},
   "outputs": [],
   "source": [
    "def drop_outliers(df):\n",
    "    copy = df.copy()\n",
    "    iqr = np.percentile(df['ClosePrice'], 75) - np.percentile(df['ClosePrice'], 25)\n",
    "    print(copy.shape[0])\n",
    "    high_cutoff = df['ClosePrice'].median() + 1.5 * iqr\n",
    "    low_cutoff = 50000\n",
    "    print(f'high_cutoff: {high_cutoff}, low_cutoff: {low_cutoff}')\n",
    "    copy = copy[(copy['ClosePrice'] < high_cutoff) & (copy['ClosePrice'] > low_cutoff)]\n",
    "    print(copy.shape[0])\n",
    "    return copy"
   ]
  },
  {
   "cell_type": "code",
   "execution_count": 201,
   "metadata": {},
   "outputs": [],
   "source": [
    "def engineer_schools(df):\n",
    "    copy = df.copy()\n",
    "    # no need for elementary school district or middle school district because all values in those are missing\n",
    "    cols = ['ElementarySchool', 'MiddleOrJuniorSchool', 'HighSchool', 'HighSchoolDistrict']\n",
    "    sum = pd.Series(np.zeros(df.shape[0]), index=df.index)\n",
    "    for col in cols:\n",
    "        sum += (1- copy[col].isna())\n",
    "    copy['total_schools'] = sum\n",
    "    copy = copy.drop(columns=['ElementarySchool', 'ElementarySchoolDistrict','MiddleOrJuniorSchool', \n",
    "                              'MiddleOrJuniorSchoolDistrict', 'HighSchool', 'HighSchoolDistrict'])\n",
    "    return copy"
   ]
  },
  {
   "cell_type": "code",
   "execution_count": 202,
   "metadata": {},
   "outputs": [
    {
     "data": {
      "text/plain": [
       "0         3000000.0\n",
       "1         7750000.0\n",
       "2          575000.0\n",
       "3         1810000.0\n",
       "4         1135000.0\n",
       "            ...    \n",
       "110528     650000.0\n",
       "110529     275000.0\n",
       "110530    2225000.0\n",
       "110531    3737500.0\n",
       "110532     375000.0\n",
       "Name: ClosePrice, Length: 110533, dtype: float64"
      ]
     },
     "execution_count": 202,
     "metadata": {},
     "output_type": "execute_result"
    }
   ],
   "source": [
    "df['ClosePrice']"
   ]
  },
  {
   "cell_type": "code",
   "execution_count": 203,
   "metadata": {},
   "outputs": [],
   "source": [
    "def numerate_features(df):\n",
    "    output = df.copy()\n",
    "    extra_features = ['PoolPrivateYN', 'ViewYN', 'AttachedGarageYN', 'BasementYN', 'FireplaceYN', 'WaterfrontYN']\n",
    "    for col in extra_features:\n",
    "        output[col] = output[col].fillna(0).astype(int)\n",
    "    output['extra_features'] = output[extra_features].sum(axis=1)\n",
    "    output = output.drop(columns=extra_features)\n",
    "    return output\n",
    "\n",
    "def engineer_postal_code(df):\n",
    "    copy = df.copy()\n",
    "    def cut_off(value):\n",
    "        if len(value) > 5:\n",
    "            return int(value[:5]) # if the postal code is in the form XXXXX-XXXX, cut off the second part\n",
    "        return int(value)\n",
    "    copy.dropna(subset=['PostalCode'], inplace=True)\n",
    "    copy['PostalCode'] = copy['PostalCode'].astype(str)\n",
    "    copy['PostalCode'] = copy['PostalCode'].transform(cut_off)\n",
    "    return copy\n",
    "\n",
    "def log_scale(df, columns):\n",
    "    copy = df.copy()\n",
    "    for col in columns:\n",
    "        copy[col] = np.log1p(df[col])\n",
    "    return copy"
   ]
  },
  {
   "cell_type": "code",
   "execution_count": 204,
   "metadata": {},
   "outputs": [],
   "source": [
    "def preprocess(df):\n",
    "    output = df.copy()\n",
    "    output = fill_missing(output)\n",
    "    output = engineer_schools(output)\n",
    "    output = numerate_features(output)\n",
    "    output = engineer_postal_code(output)\n",
    "    output = drop_outliers(output)\n",
    "    output = log_scale(output, ['mean_zhi', 'median_sale_price', 'ClosePrice'])\n",
    "    return output"
   ]
  },
  {
   "cell_type": "code",
   "execution_count": 205,
   "metadata": {},
   "outputs": [],
   "source": [
    "from sklearn.preprocessing import StandardScaler\n",
    "from tensorflow.keras.layers import Dense, Dropout, BatchNormalization, LeakyReLU\n",
    "from tensorflow.keras.optimizers import Adam\n",
    "from tensorflow.keras.models import Sequential\n",
    "\n",
    "import kerastuner as kt"
   ]
  },
  {
   "cell_type": "code",
   "execution_count": 206,
   "metadata": {},
   "outputs": [
    {
     "name": "stdout",
     "output_type": "stream",
     "text": [
      "110531\n",
      "high_cutoff: 2130000.0, low_cutoff: 50000\n",
      "97280\n"
     ]
    },
    {
     "data": {
      "text/html": [
       "<div>\n",
       "<style scoped>\n",
       "    .dataframe tbody tr th:only-of-type {\n",
       "        vertical-align: middle;\n",
       "    }\n",
       "\n",
       "    .dataframe tbody tr th {\n",
       "        vertical-align: top;\n",
       "    }\n",
       "\n",
       "    .dataframe thead th {\n",
       "        text-align: right;\n",
       "    }\n",
       "</style>\n",
       "<table border=\"1\" class=\"dataframe\">\n",
       "  <thead>\n",
       "    <tr style=\"text-align: right;\">\n",
       "      <th></th>\n",
       "      <th>PostalCode</th>\n",
       "      <th>DaysOnMarket</th>\n",
       "      <th>BedroomsTotal</th>\n",
       "      <th>BathroomsTotalInteger</th>\n",
       "      <th>YearBuilt</th>\n",
       "      <th>LivingArea</th>\n",
       "      <th>ClosePrice</th>\n",
       "      <th>mean_zhi</th>\n",
       "      <th>median_sale_price</th>\n",
       "      <th>Stories</th>\n",
       "      <th>total_schools</th>\n",
       "      <th>extra_features</th>\n",
       "    </tr>\n",
       "  </thead>\n",
       "  <tbody>\n",
       "    <tr>\n",
       "      <th>2</th>\n",
       "      <td>93906</td>\n",
       "      <td>0</td>\n",
       "      <td>2.0</td>\n",
       "      <td>1.0</td>\n",
       "      <td>1950.0</td>\n",
       "      <td>863.0</td>\n",
       "      <td>13.262127</td>\n",
       "      <td>13.468598</td>\n",
       "      <td>12.861001</td>\n",
       "      <td>1.35392</td>\n",
       "      <td>1.0</td>\n",
       "      <td>2</td>\n",
       "    </tr>\n",
       "    <tr>\n",
       "      <th>3</th>\n",
       "      <td>90046</td>\n",
       "      <td>0</td>\n",
       "      <td>3.0</td>\n",
       "      <td>1.0</td>\n",
       "      <td>1923.0</td>\n",
       "      <td>1338.0</td>\n",
       "      <td>14.408838</td>\n",
       "      <td>14.482931</td>\n",
       "      <td>14.053346</td>\n",
       "      <td>1.00000</td>\n",
       "      <td>0.0</td>\n",
       "      <td>1</td>\n",
       "    </tr>\n",
       "    <tr>\n",
       "      <th>4</th>\n",
       "      <td>92057</td>\n",
       "      <td>0</td>\n",
       "      <td>4.0</td>\n",
       "      <td>4.0</td>\n",
       "      <td>2009.0</td>\n",
       "      <td>3203.0</td>\n",
       "      <td>13.942144</td>\n",
       "      <td>13.654060</td>\n",
       "      <td>12.922084</td>\n",
       "      <td>2.00000</td>\n",
       "      <td>0.0</td>\n",
       "      <td>1</td>\n",
       "    </tr>\n",
       "    <tr>\n",
       "      <th>5</th>\n",
       "      <td>95119</td>\n",
       "      <td>0</td>\n",
       "      <td>4.0</td>\n",
       "      <td>2.0</td>\n",
       "      <td>1969.0</td>\n",
       "      <td>2013.0</td>\n",
       "      <td>14.217637</td>\n",
       "      <td>14.257074</td>\n",
       "      <td>13.603555</td>\n",
       "      <td>1.35392</td>\n",
       "      <td>1.0</td>\n",
       "      <td>2</td>\n",
       "    </tr>\n",
       "    <tr>\n",
       "      <th>6</th>\n",
       "      <td>90275</td>\n",
       "      <td>0</td>\n",
       "      <td>3.0</td>\n",
       "      <td>2.0</td>\n",
       "      <td>1959.0</td>\n",
       "      <td>1614.0</td>\n",
       "      <td>14.122996</td>\n",
       "      <td>14.474341</td>\n",
       "      <td>13.797857</td>\n",
       "      <td>1.00000</td>\n",
       "      <td>1.0</td>\n",
       "      <td>3</td>\n",
       "    </tr>\n",
       "    <tr>\n",
       "      <th>...</th>\n",
       "      <td>...</td>\n",
       "      <td>...</td>\n",
       "      <td>...</td>\n",
       "      <td>...</td>\n",
       "      <td>...</td>\n",
       "      <td>...</td>\n",
       "      <td>...</td>\n",
       "      <td>...</td>\n",
       "      <td>...</td>\n",
       "      <td>...</td>\n",
       "      <td>...</td>\n",
       "      <td>...</td>\n",
       "    </tr>\n",
       "    <tr>\n",
       "      <th>110525</th>\n",
       "      <td>95338</td>\n",
       "      <td>555</td>\n",
       "      <td>2.0</td>\n",
       "      <td>2.0</td>\n",
       "      <td>1991.0</td>\n",
       "      <td>1460.0</td>\n",
       "      <td>12.072547</td>\n",
       "      <td>12.856383</td>\n",
       "      <td>13.143148</td>\n",
       "      <td>1.00000</td>\n",
       "      <td>1.0</td>\n",
       "      <td>2</td>\n",
       "    </tr>\n",
       "    <tr>\n",
       "      <th>110526</th>\n",
       "      <td>95338</td>\n",
       "      <td>559</td>\n",
       "      <td>2.0</td>\n",
       "      <td>1.0</td>\n",
       "      <td>2001.0</td>\n",
       "      <td>747.0</td>\n",
       "      <td>12.594734</td>\n",
       "      <td>12.856383</td>\n",
       "      <td>13.143148</td>\n",
       "      <td>1.00000</td>\n",
       "      <td>2.0</td>\n",
       "      <td>2</td>\n",
       "    </tr>\n",
       "    <tr>\n",
       "      <th>110528</th>\n",
       "      <td>93669</td>\n",
       "      <td>527</td>\n",
       "      <td>2.0</td>\n",
       "      <td>2.0</td>\n",
       "      <td>1960.0</td>\n",
       "      <td>1044.0</td>\n",
       "      <td>13.384729</td>\n",
       "      <td>12.829608</td>\n",
       "      <td>12.442136</td>\n",
       "      <td>1.00000</td>\n",
       "      <td>4.0</td>\n",
       "      <td>3</td>\n",
       "    </tr>\n",
       "    <tr>\n",
       "      <th>110529</th>\n",
       "      <td>92325</td>\n",
       "      <td>592</td>\n",
       "      <td>2.0</td>\n",
       "      <td>1.0</td>\n",
       "      <td>1930.0</td>\n",
       "      <td>960.0</td>\n",
       "      <td>12.524530</td>\n",
       "      <td>12.861620</td>\n",
       "      <td>12.323860</td>\n",
       "      <td>1.00000</td>\n",
       "      <td>1.0</td>\n",
       "      <td>1</td>\n",
       "    </tr>\n",
       "    <tr>\n",
       "      <th>110532</th>\n",
       "      <td>96003</td>\n",
       "      <td>687</td>\n",
       "      <td>3.0</td>\n",
       "      <td>3.0</td>\n",
       "      <td>2023.0</td>\n",
       "      <td>1731.0</td>\n",
       "      <td>12.834684</td>\n",
       "      <td>12.906585</td>\n",
       "      <td>12.553206</td>\n",
       "      <td>2.00000</td>\n",
       "      <td>1.0</td>\n",
       "      <td>2</td>\n",
       "    </tr>\n",
       "  </tbody>\n",
       "</table>\n",
       "<p>97280 rows × 12 columns</p>\n",
       "</div>"
      ],
      "text/plain": [
       "        PostalCode  DaysOnMarket  BedroomsTotal  BathroomsTotalInteger  \\\n",
       "2            93906             0            2.0                    1.0   \n",
       "3            90046             0            3.0                    1.0   \n",
       "4            92057             0            4.0                    4.0   \n",
       "5            95119             0            4.0                    2.0   \n",
       "6            90275             0            3.0                    2.0   \n",
       "...            ...           ...            ...                    ...   \n",
       "110525       95338           555            2.0                    2.0   \n",
       "110526       95338           559            2.0                    1.0   \n",
       "110528       93669           527            2.0                    2.0   \n",
       "110529       92325           592            2.0                    1.0   \n",
       "110532       96003           687            3.0                    3.0   \n",
       "\n",
       "        YearBuilt  LivingArea  ClosePrice   mean_zhi  median_sale_price  \\\n",
       "2          1950.0       863.0   13.262127  13.468598          12.861001   \n",
       "3          1923.0      1338.0   14.408838  14.482931          14.053346   \n",
       "4          2009.0      3203.0   13.942144  13.654060          12.922084   \n",
       "5          1969.0      2013.0   14.217637  14.257074          13.603555   \n",
       "6          1959.0      1614.0   14.122996  14.474341          13.797857   \n",
       "...           ...         ...         ...        ...                ...   \n",
       "110525     1991.0      1460.0   12.072547  12.856383          13.143148   \n",
       "110526     2001.0       747.0   12.594734  12.856383          13.143148   \n",
       "110528     1960.0      1044.0   13.384729  12.829608          12.442136   \n",
       "110529     1930.0       960.0   12.524530  12.861620          12.323860   \n",
       "110532     2023.0      1731.0   12.834684  12.906585          12.553206   \n",
       "\n",
       "        Stories  total_schools  extra_features  \n",
       "2       1.35392            1.0               2  \n",
       "3       1.00000            0.0               1  \n",
       "4       2.00000            0.0               1  \n",
       "5       1.35392            1.0               2  \n",
       "6       1.00000            1.0               3  \n",
       "...         ...            ...             ...  \n",
       "110525  1.00000            1.0               2  \n",
       "110526  1.00000            2.0               2  \n",
       "110528  1.00000            4.0               3  \n",
       "110529  1.00000            1.0               1  \n",
       "110532  2.00000            1.0               2  \n",
       "\n",
       "[97280 rows x 12 columns]"
      ]
     },
     "metadata": {},
     "output_type": "display_data"
    },
    {
     "data": {
      "text/plain": [
       "PostalCode               0\n",
       "DaysOnMarket             0\n",
       "BedroomsTotal            0\n",
       "BathroomsTotalInteger    0\n",
       "YearBuilt                0\n",
       "LivingArea               0\n",
       "ClosePrice               0\n",
       "mean_zhi                 0\n",
       "median_sale_price        0\n",
       "Stories                  0\n",
       "total_schools            0\n",
       "extra_features           0\n",
       "dtype: int64"
      ]
     },
     "execution_count": 206,
     "metadata": {},
     "output_type": "execute_result"
    }
   ],
   "source": [
    "target = \"ClosePrice\"  # Replace with actual target column name\n",
    "cleaned_df = preprocess(df)\n",
    "display(cleaned_df)\n",
    "cleaned_df.isna().sum()"
   ]
  },
  {
   "cell_type": "code",
   "execution_count": 207,
   "metadata": {},
   "outputs": [],
   "source": [
    "final_features = ['DaysOnMarket', 'BedroomsTotal', 'BathroomsTotalInteger', 'YearBuilt', \n",
    "                  'LivingArea', 'total_schools', 'Stories', 'extra_features', 'mean_zhi', 'median_sale_price']\n",
    "\n",
    "X = cleaned_df[final_features]\n",
    "y = cleaned_df['ClosePrice']\n",
    "\n",
    "# Train-test split\n",
    "X_train, X_test, y_train, y_test = train_test_split(X, y, test_size=0.2, random_state=42)"
   ]
  },
  {
   "cell_type": "code",
   "execution_count": 208,
   "metadata": {},
   "outputs": [],
   "source": [
    "scaler = StandardScaler()\n",
    "X_train = scaler.fit_transform(X_train)\n",
    "X_test = scaler.transform(X_test)"
   ]
  },
  {
   "cell_type": "code",
   "execution_count": 209,
   "metadata": {},
   "outputs": [],
   "source": [
    "def r2_score(y_true, y_pred):\n",
    "    ss_res = tf.reduce_sum(tf.square(y_true - y_pred))  # Residual sum of squares\n",
    "    mean_y = tf.reduce_mean(y_true)\n",
    "    ss_tot = tf.reduce_sum(tf.square(y_true - mean_y))  # Total sum of squares\n",
    "    return 1 - (ss_res / (ss_tot + tf.keras.backend.epsilon()))  # Avoid division by zero"
   ]
  },
  {
   "cell_type": "code",
   "execution_count": 210,
   "metadata": {},
   "outputs": [],
   "source": [
    "# def build_model(hp):\n",
    "#     model = Sequential()\n",
    "    \n",
    "#     # Input layer with tunable number of neurons\n",
    "#     model.add(Dense(\n",
    "#         units=hp.Int('units_input', min_value=8, max_value=64, step=8),\n",
    "#         activation='relu',\n",
    "#         input_shape=(X_train.shape[1],)\n",
    "#     ))\n",
    "\n",
    "#     # Hidden layers with tunable parameters\n",
    "#     for i in range(hp.Int(\"num_layers\", 2, 5)):  # Tune between 2 to 5 hidden layers\n",
    "#         model.add(Dense(\n",
    "#             units=hp.Int(f'units_{i}', min_value=16, max_value=64, step=16),\n",
    "#             activation='relu'\n",
    "#         ))\n",
    "#         if hp.Boolean(f'batch_norm_{i}'):  # Optionally add BatchNormalization\n",
    "#             model.add(BatchNormalization())\n",
    "\n",
    "#         if hp.Boolean(f'dropout_{i}'):  # Optionally add Dropout\n",
    "#             model.add(Dropout(rate=hp.Float(f'dropout_rate_{i}', 0.1, 0.5, step=0.1)))\n",
    "\n",
    "#     # Output layer (regression - no activation)\n",
    "#     model.add(Dense(1))\n",
    "\n",
    "#     # Compile model with tunable learning rate\n",
    "#     model.compile(\n",
    "#         optimizer=tf.keras.optimizers.Adam(\n",
    "#             learning_rate=hp.Choice('learning_rate', [0.001, 0.005, 0.01])\n",
    "#         ),\n",
    "#         loss='mae',\n",
    "#         metrics=['mae', r2_score]\n",
    "#     )\n",
    "    \n",
    "#     return model\n",
    "\n",
    "# tuner = kt.BayesianOptimization(\n",
    "#     build_model,\n",
    "#     objective=\"val_mae\",  # Optimizing for Mean Absolute Error (MAE) for regression\n",
    "#     max_trials=10,  # Number of different hyperparameter sets to try\n",
    "#     executions_per_trial=1,  # Number of models trained per trial\n",
    "#     directory=\"bayesian_tuning\",\n",
    "#     project_name=\"regression_model\"\n",
    "# )\n",
    "\n",
    "# tuner.search(X_train, y_train, \n",
    "#              epochs=60, \n",
    "#              validation_data=(X_test, y_test), \n",
    "#              batch_size=32)\n",
    "\n",
    "# best_hps = tuner.get_best_hyperparameters(num_trials=1)[0]\n",
    "# best_model = tuner.hypermodel.build(best_hps)"
   ]
  },
  {
   "cell_type": "code",
   "execution_count": 211,
   "metadata": {},
   "outputs": [],
   "source": [
    "# optimizer = Adam(learning_rate=0.001)\n",
    "# best_model.compile(loss='mae', metrics=['mae', r2_score, mape_loss])\n",
    "# history = best_model.fit(X_train, y_train, \n",
    "#                          epochs=60, \n",
    "#                          validation_data=(X_test, y_test), \n",
    "#                          batch_size=32)\n",
    "\n",
    "# loss, mae, r2, mape = best_model.evaluate(X_test, y_test)\n",
    "# print(f\"Final MAE: {mae:.2f}\")\n",
    "# print(f\"Final R²: {r2:.2f}\")\n",
    "# print(f\"Final MAPE: {mape:.2f}\")"
   ]
  },
  {
   "cell_type": "code",
   "execution_count": 212,
   "metadata": {},
   "outputs": [
    {
     "data": {
      "text/plain": [
       "(array([   36.,    72.,   174.,   596.,  2512.,  9867., 20649., 29299.,\n",
       "        20272., 13803.]),\n",
       " array([10.82974842, 11.20393678, 11.57812515, 11.95231351, 12.32650188,\n",
       "        12.70069024, 13.07487861, 13.44906697, 13.82325534, 14.1974437 ,\n",
       "        14.57163207]),\n",
       " <BarContainer object of 10 artists>)"
      ]
     },
     "execution_count": 212,
     "metadata": {},
     "output_type": "execute_result"
    },
    {
     "data": {
      "image/png": "[encoded data removed]",
      "text/plain": [
       "<Figure size 640x480 with 1 Axes>"
      ]
     },
     "metadata": {},
     "output_type": "display_data"
    }
   ],
   "source": [
    "plt.hist(cleaned_df['ClosePrice'])"
   ]
  },
  {
   "cell_type": "code",
   "execution_count": 213,
   "metadata": {},
   "outputs": [
    {
     "name": "stdout",
     "output_type": "stream",
     "text": [
      "Epoch 1/60\n"
     ]
    },
    {
     "name": "stderr",
     "output_type": "stream",
     "text": [
      "/opt/anaconda3/lib/python3.12/site-packages/keras/src/layers/core/dense.py:87: UserWarning: Do not pass an `input_shape`/`input_dim` argument to a layer. When using Sequential models, prefer using an `Input(shape)` object as the first layer in the model instead.\n",
      "  super().__init__(activity_regularizer=activity_regularizer, **kwargs)\n"
     ]
    },
    {
     "name": "stdout",
     "output_type": "stream",
     "text": [
      "\u001b[1m2432/2432\u001b[0m \u001b[32m━━━━━━━━━━━━━━━━━━━━\u001b[0m\u001b[37m\u001b[0m \u001b[1m4s\u001b[0m 1ms/step - loss: 1.9605 - mae: 1.9605 - r2_score: -62.5955 - val_loss: 0.1768 - val_mae: 0.1768 - val_r2_score: 0.7623\n",
      "Epoch 2/60\n",
      "\u001b[1m2432/2432\u001b[0m \u001b[32m━━━━━━━━━━━━━━━━━━━━\u001b[0m\u001b[37m\u001b[0m \u001b[1m2s\u001b[0m 810us/step - loss: 0.1935 - mae: 0.1935 - r2_score: 0.7194 - val_loss: 0.1554 - val_mae: 0.1554 - val_r2_score: 0.8157\n",
      "Epoch 3/60\n",
      "\u001b[1m2432/2432\u001b[0m \u001b[32m━━━━━━━━━━━━━━━━━━━━\u001b[0m\u001b[37m\u001b[0m \u001b[1m2s\u001b[0m 800us/step - loss: 0.1682 - mae: 0.1682 - r2_score: 0.7798 - val_loss: 0.1454 - val_mae: 0.1454 - val_r2_score: 0.8337\n",
      "Epoch 4/60\n",
      "\u001b[1m2432/2432\u001b[0m \u001b[32m━━━━━━━━━━━━━━━━━━━━\u001b[0m\u001b[37m\u001b[0m \u001b[1m2s\u001b[0m 768us/step - loss: 0.1595 - mae: 0.1595 - r2_score: 0.7999 - val_loss: 0.1583 - val_mae: 0.1583 - val_r2_score: 0.8012\n",
      "Epoch 5/60\n",
      "\u001b[1m2432/2432\u001b[0m \u001b[32m━━━━━━━━━━━━━━━━━━━━\u001b[0m\u001b[37m\u001b[0m \u001b[1m2s\u001b[0m 753us/step - loss: 0.1562 - mae: 0.1562 - r2_score: 0.8052 - val_loss: 0.1414 - val_mae: 0.1414 - val_r2_score: 0.8366\n",
      "Epoch 6/60\n",
      "\u001b[1m2432/2432\u001b[0m \u001b[32m━━━━━━━━━━━━━━━━━━━━\u001b[0m\u001b[37m\u001b[0m \u001b[1m2s\u001b[0m 781us/step - loss: 0.1576 - mae: 0.1576 - r2_score: 0.8020 - val_loss: 0.1507 - val_mae: 0.1507 - val_r2_score: 0.8158\n",
      "Epoch 7/60\n",
      "\u001b[1m2432/2432\u001b[0m \u001b[32m━━━━━━━━━━━━━━━━━━━━\u001b[0m\u001b[37m\u001b[0m \u001b[1m2s\u001b[0m 744us/step - loss: 0.1524 - mae: 0.1524 - r2_score: 0.8143 - val_loss: 0.1470 - val_mae: 0.1470 - val_r2_score: 0.8221\n",
      "Epoch 8/60\n",
      "\u001b[1m2432/2432\u001b[0m \u001b[32m━━━━━━━━━━━━━━━━━━━━\u001b[0m\u001b[37m\u001b[0m \u001b[1m2s\u001b[0m 759us/step - loss: 0.1536 - mae: 0.1536 - r2_score: 0.8095 - val_loss: 0.1483 - val_mae: 0.1483 - val_r2_score: 0.8219\n",
      "Epoch 9/60\n",
      "\u001b[1m2432/2432\u001b[0m \u001b[32m━━━━━━━━━━━━━━━━━━━━\u001b[0m\u001b[37m\u001b[0m \u001b[1m2s\u001b[0m 766us/step - loss: 0.1509 - mae: 0.1509 - r2_score: 0.8142 - val_loss: 0.1823 - val_mae: 0.1823 - val_r2_score: 0.7510\n",
      "Epoch 10/60\n",
      "\u001b[1m2432/2432\u001b[0m \u001b[32m━━━━━━━━━━━━━━━━━━━━\u001b[0m\u001b[37m\u001b[0m \u001b[1m2s\u001b[0m 769us/step - loss: 0.1477 - mae: 0.1477 - r2_score: 0.8213 - val_loss: 0.1458 - val_mae: 0.1458 - val_r2_score: 0.8288\n",
      "Epoch 11/60\n",
      "\u001b[1m2432/2432\u001b[0m \u001b[32m━━━━━━━━━━━━━━━━━━━━\u001b[0m\u001b[37m\u001b[0m \u001b[1m2s\u001b[0m 756us/step - loss: 0.1481 - mae: 0.1481 - r2_score: 0.8205 - val_loss: 0.1504 - val_mae: 0.1504 - val_r2_score: 0.8212\n",
      "Epoch 12/60\n",
      "\u001b[1m2432/2432\u001b[0m \u001b[32m━━━━━━━━━━━━━━━━━━━━\u001b[0m\u001b[37m\u001b[0m \u001b[1m2s\u001b[0m 756us/step - loss: 0.1468 - mae: 0.1468 - r2_score: 0.8249 - val_loss: 0.1601 - val_mae: 0.1601 - val_r2_score: 0.7985\n",
      "Epoch 13/60\n",
      "\u001b[1m2432/2432\u001b[0m \u001b[32m━━━━━━━━━━━━━━━━━━━━\u001b[0m\u001b[37m\u001b[0m \u001b[1m2s\u001b[0m 781us/step - loss: 0.1462 - mae: 0.1462 - r2_score: 0.8244 - val_loss: 0.1441 - val_mae: 0.1441 - val_r2_score: 0.8357\n",
      "Epoch 14/60\n",
      "\u001b[1m2432/2432\u001b[0m \u001b[32m━━━━━━━━━━━━━━━━━━━━\u001b[0m\u001b[37m\u001b[0m \u001b[1m2s\u001b[0m 768us/step - loss: 0.1468 - mae: 0.1468 - r2_score: 0.8247 - val_loss: 0.1561 - val_mae: 0.1561 - val_r2_score: 0.8093\n",
      "Epoch 15/60\n",
      "\u001b[1m2432/2432\u001b[0m \u001b[32m━━━━━━━━━━━━━━━━━━━━\u001b[0m\u001b[37m\u001b[0m \u001b[1m2s\u001b[0m 752us/step - loss: 0.1466 - mae: 0.1466 - r2_score: 0.8247 - val_loss: 0.1441 - val_mae: 0.1441 - val_r2_score: 0.8327\n",
      "Epoch 16/60\n",
      "\u001b[1m2432/2432\u001b[0m \u001b[32m━━━━━━━━━━━━━━━━━━━━\u001b[0m\u001b[37m\u001b[0m \u001b[1m2s\u001b[0m 734us/step - loss: 0.1431 - mae: 0.1431 - r2_score: 0.8321 - val_loss: 0.1592 - val_mae: 0.1592 - val_r2_score: 0.8073\n",
      "Epoch 17/60\n",
      "\u001b[1m2432/2432\u001b[0m \u001b[32m━━━━━━━━━━━━━━━━━━━━\u001b[0m\u001b[37m\u001b[0m \u001b[1m2s\u001b[0m 745us/step - loss: 0.1450 - mae: 0.1450 - r2_score: 0.8294 - val_loss: 0.1548 - val_mae: 0.1548 - val_r2_score: 0.8165\n",
      "Epoch 18/60\n",
      "\u001b[1m2432/2432\u001b[0m \u001b[32m━━━━━━━━━━━━━━━━━━━━\u001b[0m\u001b[37m\u001b[0m \u001b[1m2s\u001b[0m 738us/step - loss: 0.1458 - mae: 0.1458 - r2_score: 0.8261 - val_loss: 0.1763 - val_mae: 0.1763 - val_r2_score: 0.7655\n",
      "Epoch 19/60\n",
      "\u001b[1m2432/2432\u001b[0m \u001b[32m━━━━━━━━━━━━━━━━━━━━\u001b[0m\u001b[37m\u001b[0m \u001b[1m2s\u001b[0m 752us/step - loss: 0.1456 - mae: 0.1456 - r2_score: 0.8246 - val_loss: 0.1461 - val_mae: 0.1461 - val_r2_score: 0.8321\n",
      "Epoch 20/60\n",
      "\u001b[1m2432/2432\u001b[0m \u001b[32m━━━━━━━━━━━━━━━━━━━━\u001b[0m\u001b[37m\u001b[0m \u001b[1m2s\u001b[0m 754us/step - loss: 0.1462 - mae: 0.1462 - r2_score: 0.8246 - val_loss: 0.1449 - val_mae: 0.1449 - val_r2_score: 0.8286\n",
      "Epoch 21/60\n",
      "\u001b[1m2432/2432\u001b[0m \u001b[32m━━━━━━━━━━━━━━━━━━━━\u001b[0m\u001b[37m\u001b[0m \u001b[1m2s\u001b[0m 790us/step - loss: 0.1438 - mae: 0.1438 - r2_score: 0.8305 - val_loss: 0.1468 - val_mae: 0.1468 - val_r2_score: 0.8289\n",
      "Epoch 22/60\n",
      "\u001b[1m2432/2432\u001b[0m \u001b[32m━━━━━━━━━━━━━━━━━━━━\u001b[0m\u001b[37m\u001b[0m \u001b[1m2s\u001b[0m 766us/step - loss: 0.1444 - mae: 0.1444 - r2_score: 0.8280 - val_loss: 0.1481 - val_mae: 0.1481 - val_r2_score: 0.8249\n",
      "Epoch 23/60\n",
      "\u001b[1m2432/2432\u001b[0m \u001b[32m━━━━━━━━━━━━━━━━━━━━\u001b[0m\u001b[37m\u001b[0m \u001b[1m2s\u001b[0m 754us/step - loss: 0.1439 - mae: 0.1439 - r2_score: 0.8317 - val_loss: 0.1471 - val_mae: 0.1471 - val_r2_score: 0.8297\n",
      "Epoch 24/60\n",
      "\u001b[1m2432/2432\u001b[0m \u001b[32m━━━━━━━━━━━━━━━━━━━━\u001b[0m\u001b[37m\u001b[0m \u001b[1m2s\u001b[0m 745us/step - loss: 0.1429 - mae: 0.1429 - r2_score: 0.8330 - val_loss: 0.1668 - val_mae: 0.1668 - val_r2_score: 0.7865\n",
      "Epoch 25/60\n",
      "\u001b[1m2432/2432\u001b[0m \u001b[32m━━━━━━━━━━━━━━━━━━━━\u001b[0m\u001b[37m\u001b[0m \u001b[1m2s\u001b[0m 749us/step - loss: 0.1438 - mae: 0.1438 - r2_score: 0.8304 - val_loss: 0.1602 - val_mae: 0.1602 - val_r2_score: 0.8009\n",
      "Epoch 26/60\n",
      "\u001b[1m2432/2432\u001b[0m \u001b[32m━━━━━━━━━━━━━━━━━━━━\u001b[0m\u001b[37m\u001b[0m \u001b[1m2s\u001b[0m 742us/step - loss: 0.1438 - mae: 0.1438 - r2_score: 0.8293 - val_loss: 0.1437 - val_mae: 0.1437 - val_r2_score: 0.8342\n",
      "Epoch 27/60\n",
      "\u001b[1m2432/2432\u001b[0m \u001b[32m━━━━━━━━━━━━━━━━━━━━\u001b[0m\u001b[37m\u001b[0m \u001b[1m2s\u001b[0m 760us/step - loss: 0.1417 - mae: 0.1417 - r2_score: 0.8324 - val_loss: 0.1422 - val_mae: 0.1422 - val_r2_score: 0.8360\n",
      "Epoch 28/60\n",
      "\u001b[1m2432/2432\u001b[0m \u001b[32m━━━━━━━━━━━━━━━━━━━━\u001b[0m\u001b[37m\u001b[0m \u001b[1m2s\u001b[0m 774us/step - loss: 0.1417 - mae: 0.1417 - r2_score: 0.8346 - val_loss: 0.1612 - val_mae: 0.1612 - val_r2_score: 0.8055\n",
      "Epoch 29/60\n",
      "\u001b[1m2432/2432\u001b[0m \u001b[32m━━━━━━━━━━━━━━━━━━━━\u001b[0m\u001b[37m\u001b[0m \u001b[1m2s\u001b[0m 750us/step - loss: 0.1415 - mae: 0.1415 - r2_score: 0.8327 - val_loss: 0.1752 - val_mae: 0.1752 - val_r2_score: 0.7744\n",
      "Epoch 30/60\n",
      "\u001b[1m2432/2432\u001b[0m \u001b[32m━━━━━━━━━━━━━━━━━━━━\u001b[0m\u001b[37m\u001b[0m \u001b[1m2s\u001b[0m 775us/step - loss: 0.1440 - mae: 0.1440 - r2_score: 0.8304 - val_loss: 0.1571 - val_mae: 0.1571 - val_r2_score: 0.8047\n",
      "Epoch 31/60\n",
      "\u001b[1m2432/2432\u001b[0m \u001b[32m━━━━━━━━━━━━━━━━━━━━\u001b[0m\u001b[37m\u001b[0m \u001b[1m2s\u001b[0m 744us/step - loss: 0.1421 - mae: 0.1421 - r2_score: 0.8342 - val_loss: 0.1470 - val_mae: 0.1470 - val_r2_score: 0.8282\n",
      "Epoch 32/60\n",
      "\u001b[1m2432/2432\u001b[0m \u001b[32m━━━━━━━━━━━━━━━━━━━━\u001b[0m\u001b[37m\u001b[0m \u001b[1m2s\u001b[0m 756us/step - loss: 0.1425 - mae: 0.1425 - r2_score: 0.8335 - val_loss: 0.1487 - val_mae: 0.1487 - val_r2_score: 0.8233\n",
      "Epoch 33/60\n",
      "\u001b[1m2432/2432\u001b[0m \u001b[32m━━━━━━━━━━━━━━━━━━━━\u001b[0m\u001b[37m\u001b[0m \u001b[1m2s\u001b[0m 760us/step - loss: 0.1418 - mae: 0.1418 - r2_score: 0.8329 - val_loss: 0.1686 - val_mae: 0.1686 - val_r2_score: 0.7831\n",
      "Epoch 34/60\n",
      "\u001b[1m2432/2432\u001b[0m \u001b[32m━━━━━━━━━━━━━━━━━━━━\u001b[0m\u001b[37m\u001b[0m \u001b[1m2s\u001b[0m 745us/step - loss: 0.1431 - mae: 0.1431 - r2_score: 0.8309 - val_loss: 0.1506 - val_mae: 0.1506 - val_r2_score: 0.8211\n",
      "Epoch 35/60\n",
      "\u001b[1m2432/2432\u001b[0m \u001b[32m━━━━━━━━━━━━━━━━━━━━\u001b[0m\u001b[37m\u001b[0m \u001b[1m2s\u001b[0m 738us/step - loss: 0.1421 - mae: 0.1421 - r2_score: 0.8329 - val_loss: 0.1464 - val_mae: 0.1464 - val_r2_score: 0.8299\n",
      "Epoch 36/60\n",
      "\u001b[1m2432/2432\u001b[0m \u001b[32m━━━━━━━━━━━━━━━━━━━━\u001b[0m\u001b[37m\u001b[0m \u001b[1m2s\u001b[0m 772us/step - loss: 0.1419 - mae: 0.1419 - r2_score: 0.8351 - val_loss: 0.1559 - val_mae: 0.1559 - val_r2_score: 0.8090\n",
      "Epoch 37/60\n",
      "\u001b[1m2432/2432\u001b[0m \u001b[32m━━━━━━━━━━━━━━━━━━━━\u001b[0m\u001b[37m\u001b[0m \u001b[1m2s\u001b[0m 758us/step - loss: 0.1421 - mae: 0.1421 - r2_score: 0.8350 - val_loss: 0.1544 - val_mae: 0.1544 - val_r2_score: 0.8172\n",
      "Epoch 38/60\n",
      "\u001b[1m2432/2432\u001b[0m \u001b[32m━━━━━━━━━━━━━━━━━━━━\u001b[0m\u001b[37m\u001b[0m \u001b[1m2s\u001b[0m 735us/step - loss: 0.1436 - mae: 0.1436 - r2_score: 0.8320 - val_loss: 0.1544 - val_mae: 0.1544 - val_r2_score: 0.8111\n",
      "Epoch 39/60\n",
      "\u001b[1m2432/2432\u001b[0m \u001b[32m━━━━━━━━━━━━━━━━━━━━\u001b[0m\u001b[37m\u001b[0m \u001b[1m2s\u001b[0m 738us/step - loss: 0.1418 - mae: 0.1418 - r2_score: 0.8324 - val_loss: 0.1784 - val_mae: 0.1784 - val_r2_score: 0.7626\n",
      "Epoch 40/60\n",
      "\u001b[1m2432/2432\u001b[0m \u001b[32m━━━━━━━━━━━━━━━━━━━━\u001b[0m\u001b[37m\u001b[0m \u001b[1m2s\u001b[0m 738us/step - loss: 0.1415 - mae: 0.1415 - r2_score: 0.8338 - val_loss: 0.1571 - val_mae: 0.1571 - val_r2_score: 0.8133\n",
      "Epoch 41/60\n",
      "\u001b[1m2432/2432\u001b[0m \u001b[32m━━━━━━━━━━━━━━━━━━━━\u001b[0m\u001b[37m\u001b[0m \u001b[1m2s\u001b[0m 731us/step - loss: 0.1408 - mae: 0.1408 - r2_score: 0.8370 - val_loss: 0.1430 - val_mae: 0.1430 - val_r2_score: 0.8366\n",
      "Epoch 42/60\n",
      "\u001b[1m2432/2432\u001b[0m \u001b[32m━━━━━━━━━━━━━━━━━━━━\u001b[0m\u001b[37m\u001b[0m \u001b[1m2s\u001b[0m 744us/step - loss: 0.1407 - mae: 0.1407 - r2_score: 0.8372 - val_loss: 0.1511 - val_mae: 0.1511 - val_r2_score: 0.8212\n",
      "Epoch 43/60\n",
      "\u001b[1m2432/2432\u001b[0m \u001b[32m━━━━━━━━━━━━━━━━━━━━\u001b[0m\u001b[37m\u001b[0m \u001b[1m2s\u001b[0m 736us/step - loss: 0.1429 - mae: 0.1429 - r2_score: 0.8312 - val_loss: 0.1442 - val_mae: 0.1442 - val_r2_score: 0.8365\n",
      "Epoch 44/60\n",
      "\u001b[1m2432/2432\u001b[0m \u001b[32m━━━━━━━━━━━━━━━━━━━━\u001b[0m\u001b[37m\u001b[0m \u001b[1m2s\u001b[0m 728us/step - loss: 0.1407 - mae: 0.1407 - r2_score: 0.8341 - val_loss: 0.1521 - val_mae: 0.1521 - val_r2_score: 0.8237\n",
      "Epoch 45/60\n",
      "\u001b[1m2432/2432\u001b[0m \u001b[32m━━━━━━━━━━━━━━━━━━━━\u001b[0m\u001b[37m\u001b[0m \u001b[1m2s\u001b[0m 735us/step - loss: 0.1409 - mae: 0.1409 - r2_score: 0.8355 - val_loss: 0.1533 - val_mae: 0.1533 - val_r2_score: 0.8169\n",
      "Epoch 46/60\n",
      "\u001b[1m2432/2432\u001b[0m \u001b[32m━━━━━━━━━━━━━━━━━━━━\u001b[0m\u001b[37m\u001b[0m \u001b[1m2s\u001b[0m 739us/step - loss: 0.1407 - mae: 0.1407 - r2_score: 0.8358 - val_loss: 0.1481 - val_mae: 0.1481 - val_r2_score: 0.8276\n",
      "Epoch 47/60\n",
      "\u001b[1m2432/2432\u001b[0m \u001b[32m━━━━━━━━━━━━━━━━━━━━\u001b[0m\u001b[37m\u001b[0m \u001b[1m2s\u001b[0m 738us/step - loss: 0.1419 - mae: 0.1419 - r2_score: 0.8342 - val_loss: 0.1497 - val_mae: 0.1497 - val_r2_score: 0.8232\n",
      "Epoch 48/60\n",
      "\u001b[1m2432/2432\u001b[0m \u001b[32m━━━━━━━━━━━━━━━━━━━━\u001b[0m\u001b[37m\u001b[0m \u001b[1m2s\u001b[0m 739us/step - loss: 0.1416 - mae: 0.1416 - r2_score: 0.8303 - val_loss: 0.1705 - val_mae: 0.1705 - val_r2_score: 0.7796\n",
      "Epoch 49/60\n",
      "\u001b[1m2432/2432\u001b[0m \u001b[32m━━━━━━━━━━━━━━━━━━━━\u001b[0m\u001b[37m\u001b[0m \u001b[1m2s\u001b[0m 757us/step - loss: 0.1404 - mae: 0.1404 - r2_score: 0.8347 - val_loss: 0.1765 - val_mae: 0.1765 - val_r2_score: 0.7651\n",
      "Epoch 50/60\n",
      "\u001b[1m2432/2432\u001b[0m \u001b[32m━━━━━━━━━━━━━━━━━━━━\u001b[0m\u001b[37m\u001b[0m \u001b[1m2s\u001b[0m 763us/step - loss: 0.1398 - mae: 0.1398 - r2_score: 0.8372 - val_loss: 0.1559 - val_mae: 0.1559 - val_r2_score: 0.8141\n",
      "Epoch 51/60\n",
      "\u001b[1m2432/2432\u001b[0m \u001b[32m━━━━━━━━━━━━━━━━━━━━\u001b[0m\u001b[37m\u001b[0m \u001b[1m2s\u001b[0m 738us/step - loss: 0.1407 - mae: 0.1407 - r2_score: 0.8357 - val_loss: 0.1500 - val_mae: 0.1500 - val_r2_score: 0.8257\n",
      "Epoch 52/60\n",
      "\u001b[1m2432/2432\u001b[0m \u001b[32m━━━━━━━━━━━━━━━━━━━━\u001b[0m\u001b[37m\u001b[0m \u001b[1m2s\u001b[0m 760us/step - loss: 0.1406 - mae: 0.1406 - r2_score: 0.8372 - val_loss: 0.1597 - val_mae: 0.1597 - val_r2_score: 0.8010\n",
      "Epoch 53/60\n",
      "\u001b[1m2432/2432\u001b[0m \u001b[32m━━━━━━━━━━━━━━━━━━━━\u001b[0m\u001b[37m\u001b[0m \u001b[1m2s\u001b[0m 741us/step - loss: 0.1418 - mae: 0.1418 - r2_score: 0.8322 - val_loss: 0.1468 - val_mae: 0.1468 - val_r2_score: 0.8305\n",
      "Epoch 54/60\n",
      "\u001b[1m2432/2432\u001b[0m \u001b[32m━━━━━━━━━━━━━━━━━━━━\u001b[0m\u001b[37m\u001b[0m \u001b[1m2s\u001b[0m 744us/step - loss: 0.1401 - mae: 0.1401 - r2_score: 0.8371 - val_loss: 0.1580 - val_mae: 0.1580 - val_r2_score: 0.8054\n",
      "Epoch 55/60\n",
      "\u001b[1m2432/2432\u001b[0m \u001b[32m━━━━━━━━━━━━━━━━━━━━\u001b[0m\u001b[37m\u001b[0m \u001b[1m2s\u001b[0m 741us/step - loss: 0.1397 - mae: 0.1397 - r2_score: 0.8391 - val_loss: 0.1507 - val_mae: 0.1507 - val_r2_score: 0.8216\n",
      "Epoch 56/60\n",
      "\u001b[1m2432/2432\u001b[0m \u001b[32m━━━━━━━━━━━━━━━━━━━━\u001b[0m\u001b[37m\u001b[0m \u001b[1m2s\u001b[0m 737us/step - loss: 0.1411 - mae: 0.1411 - r2_score: 0.8356 - val_loss: 0.1512 - val_mae: 0.1512 - val_r2_score: 0.8249\n",
      "Epoch 57/60\n",
      "\u001b[1m2432/2432\u001b[0m \u001b[32m━━━━━━━━━━━━━━━━━━━━\u001b[0m\u001b[37m\u001b[0m \u001b[1m2s\u001b[0m 754us/step - loss: 0.1410 - mae: 0.1410 - r2_score: 0.8355 - val_loss: 0.1582 - val_mae: 0.1582 - val_r2_score: 0.8090\n",
      "Epoch 58/60\n",
      "\u001b[1m2432/2432\u001b[0m \u001b[32m━━━━━━━━━━━━━━━━━━━━\u001b[0m\u001b[37m\u001b[0m \u001b[1m2s\u001b[0m 739us/step - loss: 0.1403 - mae: 0.1403 - r2_score: 0.8351 - val_loss: 0.1495 - val_mae: 0.1495 - val_r2_score: 0.8242\n",
      "Epoch 59/60\n",
      "\u001b[1m2432/2432\u001b[0m \u001b[32m━━━━━━━━━━━━━━━━━━━━\u001b[0m\u001b[37m\u001b[0m \u001b[1m2s\u001b[0m 737us/step - loss: 0.1394 - mae: 0.1394 - r2_score: 0.8385 - val_loss: 0.1487 - val_mae: 0.1487 - val_r2_score: 0.8269\n",
      "Epoch 60/60\n",
      "\u001b[1m2432/2432\u001b[0m \u001b[32m━━━━━━━━━━━━━━━━━━━━\u001b[0m\u001b[37m\u001b[0m \u001b[1m2s\u001b[0m 738us/step - loss: 0.1404 - mae: 0.1404 - r2_score: 0.8365 - val_loss: 0.1630 - val_mae: 0.1630 - val_r2_score: 0.7997\n",
      "\u001b[1m608/608\u001b[0m \u001b[32m━━━━━━━━━━━━━━━━━━━━\u001b[0m\u001b[37m\u001b[0m \u001b[1m0s\u001b[0m 413us/step - loss: 0.1636 - mae: 0.1636 - r2_score: 0.8010\n",
      "\u001b[1m608/608\u001b[0m \u001b[32m━━━━━━━━━━━━━━━━━━━━\u001b[0m\u001b[37m\u001b[0m \u001b[1m0s\u001b[0m 278us/step\n",
      "Final MAE: 140095.25377380374\n",
      "Final R2: 0.80\n",
      "Final MAPE: 17.98\n"
     ]
    },
    {
     "data": {
      "image/png": "[encoded data removed]",
      "text/plain": [
       "<Figure size 1200x500 with 2 Axes>"
      ]
     },
     "metadata": {},
     "output_type": "display_data"
    }
   ],
   "source": [
    "model = Sequential([\n",
    "    Dense(16, activation='relu', input_shape=(X_train.shape[1],)),\n",
    "    Dense(16, activation='relu'),\n",
    "    BatchNormalization(),\n",
    "    Dense(32, activation='relu'),\n",
    "    Dense(64, activation='relu'),\n",
    "    Dropout(0.25),\n",
    "    Dense(64, activation='relu'),\n",
    "    Dense(16, activation='relu'),\n",
    "    Dense(16, activation='relu'),\n",
    "    Dense(1)  # No activation for regression\n",
    "])\n",
    "\n",
    "# Compile model with R² and MAE\n",
    "optimizer = Adam(learning_rate=0.001)\n",
    "model.compile(optimizer=optimizer, loss='mae', metrics=['mae', r2_score])\n",
    "\n",
    "# Train model\n",
    "history = model.fit(X_train, y_train, validation_data=(X_test, y_test), epochs=60, batch_size=32, verbose=1)\n",
    "\n",
    "# Evaluate\n",
    "loss, mae, r2 = model.evaluate(X_test, y_test)\n",
    "predictions = np.expm1(model.predict(X_test)).ravel()\n",
    "actual = np.expm1(y_test).to_numpy()\n",
    "real_mae = np.abs(actual - predictions).mean()\n",
    "mape = np.abs((actual - predictions) / actual).mean() * 100\n",
    "\n",
    "print(f\"Final MAE: {real_mae}\")\n",
    "print(f\"Final R2: {r2:.2f}\")\n",
    "print(f\"Final MAPE: {mape:.2f}\")\n",
    "\n",
    "# Plot MAE & R²\n",
    "plt.figure(figsize=(12, 5))\n",
    "\n",
    "plt.subplot(1, 2, 1)\n",
    "plt.plot(history.history['mae'], label='Train MAE')\n",
    "plt.plot(history.history['val_mae'], label='Validation MAE')\n",
    "plt.xlabel('Epochs')\n",
    "plt.ylabel('MAE')\n",
    "plt.legend()\n",
    "plt.title('Training Progress (MAE)')\n",
    "\n",
    "plt.subplot(1, 2, 2)\n",
    "plt.plot(history.history['r2_score'], label='Train R2')\n",
    "plt.plot(history.history['val_r2_score'], label='Validation R2')\n",
    "plt.xlabel('Epochs')\n",
    "plt.ylabel('R2 Score')\n",
    "plt.legend()\n",
    "plt.title('Training Progress (R2)')\n",
    "\n",
    "plt.show()\n"
   ]
  }
 ],
 "metadata": {
  "kernelspec": {
   "display_name": "base",
   "language": "python",
   "name": "python3"
  },
  "language_info": {
   "codemirror_mode": {
    "name": "ipython",
    "version": 3
   },
   "file_extension": ".py",
   "mimetype": "text/x-python",
   "name": "python",
   "nbconvert_exporter": "python",
   "pygments_lexer": "ipython3",
   "version": "3.12.2"
  }
 },
 "nbformat": 4,
 "nbformat_minor": 2
}
