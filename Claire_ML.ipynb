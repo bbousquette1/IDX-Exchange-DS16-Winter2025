{
 "cells": [
  {
   "cell_type": "code",
   "execution_count": 158,
   "metadata": {},
   "outputs": [],
   "source": [
    "import tensorflow as tf\n",
    "from tensorflow import keras\n",
    "from tensorflow.keras import layers\n",
    "import numpy as np\n",
    "import pandas as pd\n",
    "from sklearn.model_selection import train_test_split\n",
    "import pandas as pd\n",
    "import zipfile\n",
    "import matplotlib.pyplot as plt"
   ]
  },
  {
   "cell_type": "code",
   "execution_count": 182,
   "metadata": {},
   "outputs": [
    {
     "ename": "FileNotFoundError",
     "evalue": "[Errno 2] No such file or directory: 'updated_data.csv'",
     "output_type": "error",
     "traceback": [
      "\u001b[0;31m---------------------------------------------------------------------------\u001b[0m",
      "\u001b[0;31mFileNotFoundError\u001b[0m                         Traceback (most recent call last)",
      "Cell \u001b[0;32mIn[182], line 1\u001b[0m\n\u001b[0;32m----> 1\u001b[0m df \u001b[38;5;241m=\u001b[39m pd\u001b[38;5;241m.\u001b[39mread_csv(\u001b[38;5;124m\"\u001b[39m\u001b[38;5;124mupdated_data.csv\u001b[39m\u001b[38;5;124m\"\u001b[39m)\n\u001b[1;32m      3\u001b[0m df \u001b[38;5;241m=\u001b[39m df\u001b[38;5;241m.\u001b[39miloc[:, \u001b[38;5;241m1\u001b[39m:]\n",
      "File \u001b[0;32m/opt/anaconda3/lib/python3.12/site-packages/pandas/io/parsers/readers.py:1026\u001b[0m, in \u001b[0;36mread_csv\u001b[0;34m(filepath_or_buffer, sep, delimiter, header, names, index_col, usecols, dtype, engine, converters, true_values, false_values, skipinitialspace, skiprows, skipfooter, nrows, na_values, keep_default_na, na_filter, verbose, skip_blank_lines, parse_dates, infer_datetime_format, keep_date_col, date_parser, date_format, dayfirst, cache_dates, iterator, chunksize, compression, thousands, decimal, lineterminator, quotechar, quoting, doublequote, escapechar, comment, encoding, encoding_errors, dialect, on_bad_lines, delim_whitespace, low_memory, memory_map, float_precision, storage_options, dtype_backend)\u001b[0m\n\u001b[1;32m   1013\u001b[0m kwds_defaults \u001b[38;5;241m=\u001b[39m _refine_defaults_read(\n\u001b[1;32m   1014\u001b[0m     dialect,\n\u001b[1;32m   1015\u001b[0m     delimiter,\n\u001b[0;32m   (...)\u001b[0m\n\u001b[1;32m   1022\u001b[0m     dtype_backend\u001b[38;5;241m=\u001b[39mdtype_backend,\n\u001b[1;32m   1023\u001b[0m )\n\u001b[1;32m   1024\u001b[0m kwds\u001b[38;5;241m.\u001b[39mupdate(kwds_defaults)\n\u001b[0;32m-> 1026\u001b[0m \u001b[38;5;28;01mreturn\u001b[39;00m _read(filepath_or_buffer, kwds)\n",
      "File \u001b[0;32m/opt/anaconda3/lib/python3.12/site-packages/pandas/io/parsers/readers.py:620\u001b[0m, in \u001b[0;36m_read\u001b[0;34m(filepath_or_buffer, kwds)\u001b[0m\n\u001b[1;32m    617\u001b[0m _validate_names(kwds\u001b[38;5;241m.\u001b[39mget(\u001b[38;5;124m\"\u001b[39m\u001b[38;5;124mnames\u001b[39m\u001b[38;5;124m\"\u001b[39m, \u001b[38;5;28;01mNone\u001b[39;00m))\n\u001b[1;32m    619\u001b[0m \u001b[38;5;66;03m# Create the parser.\u001b[39;00m\n\u001b[0;32m--> 620\u001b[0m parser \u001b[38;5;241m=\u001b[39m TextFileReader(filepath_or_buffer, \u001b[38;5;241m*\u001b[39m\u001b[38;5;241m*\u001b[39mkwds)\n\u001b[1;32m    622\u001b[0m \u001b[38;5;28;01mif\u001b[39;00m chunksize \u001b[38;5;129;01mor\u001b[39;00m iterator:\n\u001b[1;32m    623\u001b[0m     \u001b[38;5;28;01mreturn\u001b[39;00m parser\n",
      "File \u001b[0;32m/opt/anaconda3/lib/python3.12/site-packages/pandas/io/parsers/readers.py:1620\u001b[0m, in \u001b[0;36mTextFileReader.__init__\u001b[0;34m(self, f, engine, **kwds)\u001b[0m\n\u001b[1;32m   1617\u001b[0m     \u001b[38;5;28mself\u001b[39m\u001b[38;5;241m.\u001b[39moptions[\u001b[38;5;124m\"\u001b[39m\u001b[38;5;124mhas_index_names\u001b[39m\u001b[38;5;124m\"\u001b[39m] \u001b[38;5;241m=\u001b[39m kwds[\u001b[38;5;124m\"\u001b[39m\u001b[38;5;124mhas_index_names\u001b[39m\u001b[38;5;124m\"\u001b[39m]\n\u001b[1;32m   1619\u001b[0m \u001b[38;5;28mself\u001b[39m\u001b[38;5;241m.\u001b[39mhandles: IOHandles \u001b[38;5;241m|\u001b[39m \u001b[38;5;28;01mNone\u001b[39;00m \u001b[38;5;241m=\u001b[39m \u001b[38;5;28;01mNone\u001b[39;00m\n\u001b[0;32m-> 1620\u001b[0m \u001b[38;5;28mself\u001b[39m\u001b[38;5;241m.\u001b[39m_engine \u001b[38;5;241m=\u001b[39m \u001b[38;5;28mself\u001b[39m\u001b[38;5;241m.\u001b[39m_make_engine(f, \u001b[38;5;28mself\u001b[39m\u001b[38;5;241m.\u001b[39mengine)\n",
      "File \u001b[0;32m/opt/anaconda3/lib/python3.12/site-packages/pandas/io/parsers/readers.py:1880\u001b[0m, in \u001b[0;36mTextFileReader._make_engine\u001b[0;34m(self, f, engine)\u001b[0m\n\u001b[1;32m   1878\u001b[0m     \u001b[38;5;28;01mif\u001b[39;00m \u001b[38;5;124m\"\u001b[39m\u001b[38;5;124mb\u001b[39m\u001b[38;5;124m\"\u001b[39m \u001b[38;5;129;01mnot\u001b[39;00m \u001b[38;5;129;01min\u001b[39;00m mode:\n\u001b[1;32m   1879\u001b[0m         mode \u001b[38;5;241m+\u001b[39m\u001b[38;5;241m=\u001b[39m \u001b[38;5;124m\"\u001b[39m\u001b[38;5;124mb\u001b[39m\u001b[38;5;124m\"\u001b[39m\n\u001b[0;32m-> 1880\u001b[0m \u001b[38;5;28mself\u001b[39m\u001b[38;5;241m.\u001b[39mhandles \u001b[38;5;241m=\u001b[39m get_handle(\n\u001b[1;32m   1881\u001b[0m     f,\n\u001b[1;32m   1882\u001b[0m     mode,\n\u001b[1;32m   1883\u001b[0m     encoding\u001b[38;5;241m=\u001b[39m\u001b[38;5;28mself\u001b[39m\u001b[38;5;241m.\u001b[39moptions\u001b[38;5;241m.\u001b[39mget(\u001b[38;5;124m\"\u001b[39m\u001b[38;5;124mencoding\u001b[39m\u001b[38;5;124m\"\u001b[39m, \u001b[38;5;28;01mNone\u001b[39;00m),\n\u001b[1;32m   1884\u001b[0m     compression\u001b[38;5;241m=\u001b[39m\u001b[38;5;28mself\u001b[39m\u001b[38;5;241m.\u001b[39moptions\u001b[38;5;241m.\u001b[39mget(\u001b[38;5;124m\"\u001b[39m\u001b[38;5;124mcompression\u001b[39m\u001b[38;5;124m\"\u001b[39m, \u001b[38;5;28;01mNone\u001b[39;00m),\n\u001b[1;32m   1885\u001b[0m     memory_map\u001b[38;5;241m=\u001b[39m\u001b[38;5;28mself\u001b[39m\u001b[38;5;241m.\u001b[39moptions\u001b[38;5;241m.\u001b[39mget(\u001b[38;5;124m\"\u001b[39m\u001b[38;5;124mmemory_map\u001b[39m\u001b[38;5;124m\"\u001b[39m, \u001b[38;5;28;01mFalse\u001b[39;00m),\n\u001b[1;32m   1886\u001b[0m     is_text\u001b[38;5;241m=\u001b[39mis_text,\n\u001b[1;32m   1887\u001b[0m     errors\u001b[38;5;241m=\u001b[39m\u001b[38;5;28mself\u001b[39m\u001b[38;5;241m.\u001b[39moptions\u001b[38;5;241m.\u001b[39mget(\u001b[38;5;124m\"\u001b[39m\u001b[38;5;124mencoding_errors\u001b[39m\u001b[38;5;124m\"\u001b[39m, \u001b[38;5;124m\"\u001b[39m\u001b[38;5;124mstrict\u001b[39m\u001b[38;5;124m\"\u001b[39m),\n\u001b[1;32m   1888\u001b[0m     storage_options\u001b[38;5;241m=\u001b[39m\u001b[38;5;28mself\u001b[39m\u001b[38;5;241m.\u001b[39moptions\u001b[38;5;241m.\u001b[39mget(\u001b[38;5;124m\"\u001b[39m\u001b[38;5;124mstorage_options\u001b[39m\u001b[38;5;124m\"\u001b[39m, \u001b[38;5;28;01mNone\u001b[39;00m),\n\u001b[1;32m   1889\u001b[0m )\n\u001b[1;32m   1890\u001b[0m \u001b[38;5;28;01massert\u001b[39;00m \u001b[38;5;28mself\u001b[39m\u001b[38;5;241m.\u001b[39mhandles \u001b[38;5;129;01mis\u001b[39;00m \u001b[38;5;129;01mnot\u001b[39;00m \u001b[38;5;28;01mNone\u001b[39;00m\n\u001b[1;32m   1891\u001b[0m f \u001b[38;5;241m=\u001b[39m \u001b[38;5;28mself\u001b[39m\u001b[38;5;241m.\u001b[39mhandles\u001b[38;5;241m.\u001b[39mhandle\n",
      "File \u001b[0;32m/opt/anaconda3/lib/python3.12/site-packages/pandas/io/common.py:873\u001b[0m, in \u001b[0;36mget_handle\u001b[0;34m(path_or_buf, mode, encoding, compression, memory_map, is_text, errors, storage_options)\u001b[0m\n\u001b[1;32m    868\u001b[0m \u001b[38;5;28;01melif\u001b[39;00m \u001b[38;5;28misinstance\u001b[39m(handle, \u001b[38;5;28mstr\u001b[39m):\n\u001b[1;32m    869\u001b[0m     \u001b[38;5;66;03m# Check whether the filename is to be opened in binary mode.\u001b[39;00m\n\u001b[1;32m    870\u001b[0m     \u001b[38;5;66;03m# Binary mode does not support 'encoding' and 'newline'.\u001b[39;00m\n\u001b[1;32m    871\u001b[0m     \u001b[38;5;28;01mif\u001b[39;00m ioargs\u001b[38;5;241m.\u001b[39mencoding \u001b[38;5;129;01mand\u001b[39;00m \u001b[38;5;124m\"\u001b[39m\u001b[38;5;124mb\u001b[39m\u001b[38;5;124m\"\u001b[39m \u001b[38;5;129;01mnot\u001b[39;00m \u001b[38;5;129;01min\u001b[39;00m ioargs\u001b[38;5;241m.\u001b[39mmode:\n\u001b[1;32m    872\u001b[0m         \u001b[38;5;66;03m# Encoding\u001b[39;00m\n\u001b[0;32m--> 873\u001b[0m         handle \u001b[38;5;241m=\u001b[39m \u001b[38;5;28mopen\u001b[39m(\n\u001b[1;32m    874\u001b[0m             handle,\n\u001b[1;32m    875\u001b[0m             ioargs\u001b[38;5;241m.\u001b[39mmode,\n\u001b[1;32m    876\u001b[0m             encoding\u001b[38;5;241m=\u001b[39mioargs\u001b[38;5;241m.\u001b[39mencoding,\n\u001b[1;32m    877\u001b[0m             errors\u001b[38;5;241m=\u001b[39merrors,\n\u001b[1;32m    878\u001b[0m             newline\u001b[38;5;241m=\u001b[39m\u001b[38;5;124m\"\u001b[39m\u001b[38;5;124m\"\u001b[39m,\n\u001b[1;32m    879\u001b[0m         )\n\u001b[1;32m    880\u001b[0m     \u001b[38;5;28;01melse\u001b[39;00m:\n\u001b[1;32m    881\u001b[0m         \u001b[38;5;66;03m# Binary mode\u001b[39;00m\n\u001b[1;32m    882\u001b[0m         handle \u001b[38;5;241m=\u001b[39m \u001b[38;5;28mopen\u001b[39m(handle, ioargs\u001b[38;5;241m.\u001b[39mmode)\n",
      "\u001b[0;31mFileNotFoundError\u001b[0m: [Errno 2] No such file or directory: 'updated_data.csv'"
     ]
    }
   ],
   "source": [
    "df = pd.read_csv(\"data/updated_data.csv\")\n",
    "\n",
    "df = df.iloc[:, 1:]"
   ]
  },
  {
   "cell_type": "code",
   "execution_count": 160,
   "metadata": {},
   "outputs": [
    {
     "data": {
      "text/plain": [
       "Index(['BuyerAgentAOR', 'ListAgentAOR', 'Flooring', 'ViewYN', 'WaterfrontYN',\n",
       "       'BasementYN', 'PoolPrivateYN', 'OriginalListPrice', 'ListingKey',\n",
       "       'ListAgentEmail', 'CloseDate', 'ClosePrice', 'ListAgentFirstName',\n",
       "       'ListAgentLastName', 'Latitude', 'Longitude', 'UnparsedAddress',\n",
       "       'PropertyType', 'LivingArea', 'ListPrice', 'DaysOnMarket',\n",
       "       'ListOfficeName', 'BuyerOfficeName', 'CoListOfficeName',\n",
       "       'ListAgentFullName', 'CoListAgentFirstName', 'CoListAgentLastName',\n",
       "       'BuyerAgentMlsId', 'BuyerAgentFirstName', 'BuyerAgentLastName',\n",
       "       'FireplacesTotal', 'AssociationFeeFrequency', 'AboveGradeFinishedArea',\n",
       "       'ListingKeyNumeric', 'MLSAreaMajor', 'TaxAnnualAmount',\n",
       "       'CountyOrParish', 'MlsStatus', 'ElementarySchool', 'AttachedGarageYN',\n",
       "       'ParkingTotal', 'BuilderName', 'PropertySubType', 'LotSizeAcres',\n",
       "       'SubdivisionName', 'BuyerOfficeAOR', 'YearBuilt', 'StreetNumberNumeric',\n",
       "       'ListingId', 'BathroomsTotalInteger', 'City', 'TaxYear',\n",
       "       'BuildingAreaTotal', 'BedroomsTotal', 'ContractStatusChangeDate',\n",
       "       'ElementarySchoolDistrict', 'CoBuyerAgentFirstName',\n",
       "       'PurchaseContractDate', 'ListingContractDate', 'BelowGradeFinishedArea',\n",
       "       'BusinessType', 'StateOrProvince', 'CoveredSpaces',\n",
       "       'MiddleOrJuniorSchool', 'FireplaceYN', 'Stories', 'HighSchool',\n",
       "       'Levels', 'LotSizeDimensions', 'LotSizeArea', 'MainLevelBedrooms',\n",
       "       'NewConstructionYN', 'GarageSpaces', 'HighSchoolDistrict', 'PostalCode',\n",
       "       'AssociationFee', 'LotSizeSquareFeet', 'MiddleOrJuniorSchoolDistrict',\n",
       "       'latfilled', 'lonfilled', 'mean_zhi', 'median_sale_price'],\n",
       "      dtype='object')"
      ]
     },
     "execution_count": 160,
     "metadata": {},
     "output_type": "execute_result"
    }
   ],
   "source": [
    "df.columns"
   ]
  },
  {
   "cell_type": "code",
   "execution_count": 161,
   "metadata": {},
   "outputs": [
    {
     "data": {
      "text/plain": [
       "46664"
      ]
     },
     "execution_count": 161,
     "metadata": {},
     "output_type": "execute_result"
    }
   ],
   "source": [
    "df['Stories'].isna().sum()"
   ]
  },
  {
   "cell_type": "code",
   "execution_count": 162,
   "metadata": {},
   "outputs": [],
   "source": [
    "columns = ['PostalCode', 'PoolPrivateYN', 'ViewYN', 'AttachedGarageYN', 'BasementYN', 'FireplaceYN', \n",
    "           'WaterfrontYN', 'DaysOnMarket', 'BedroomsTotal','BathroomsTotalInteger', 'YearBuilt', 'LivingArea',\n",
    "            'ElementarySchool', 'ElementarySchoolDistrict', 'MiddleOrJuniorSchool', 'MiddleOrJuniorSchoolDistrict', \n",
    "            'HighSchool', 'HighSchoolDistrict', 'ClosePrice', 'mean_zhi', 'median_sale_price', 'Stories']\n",
    "df = df[columns]"
   ]
  },
  {
   "cell_type": "code",
   "execution_count": 163,
   "metadata": {},
   "outputs": [
    {
     "data": {
      "text/plain": [
       "219072"
      ]
     },
     "execution_count": 163,
     "metadata": {},
     "output_type": "execute_result"
    }
   ],
   "source": [
    "df.shape[0]"
   ]
  },
  {
   "cell_type": "code",
   "execution_count": 164,
   "metadata": {},
   "outputs": [
    {
     "data": {
      "text/plain": [
       "PostalCode                          60\n",
       "PoolPrivateYN                    29812\n",
       "ViewYN                           22069\n",
       "AttachedGarageYN                 59231\n",
       "BasementYN                      215313\n",
       "FireplaceYN                      18945\n",
       "WaterfrontYN                    218963\n",
       "DaysOnMarket                         0\n",
       "BedroomsTotal                    14242\n",
       "BathroomsTotalInteger             9904\n",
       "YearBuilt                         8769\n",
       "LivingArea                       15016\n",
       "ElementarySchool                193511\n",
       "ElementarySchoolDistrict        219072\n",
       "MiddleOrJuniorSchool            193291\n",
       "MiddleOrJuniorSchoolDistrict    219072\n",
       "HighSchool                      185671\n",
       "HighSchoolDistrict               71425\n",
       "ClosePrice                           2\n",
       "mean_zhi                          2111\n",
       "median_sale_price                 1649\n",
       "Stories                          46664\n",
       "dtype: int64"
      ]
     },
     "execution_count": 164,
     "metadata": {},
     "output_type": "execute_result"
    }
   ],
   "source": [
    "df.isna().sum()"
   ]
  },
  {
   "cell_type": "code",
   "execution_count": 165,
   "metadata": {},
   "outputs": [],
   "source": [
    "# def fill_missing(df):\n",
    "#     output = df.copy()\n",
    "#     def mean_impute_numerical(col):\n",
    "#         return col.fillna(col.mean())\n",
    "    \n",
    "#     def median_impute(col):\n",
    "#         median = col.median()\n",
    "#         return col.fillna(median)\n",
    "    \n",
    "#     # impute these values based on the mean value of postal code\n",
    "#     for col in ['BathroomsTotalInteger', 'YearBuilt', 'LivingArea']:\n",
    "#         new_col = output.groupby('PostalCode')[col].transform(mean_impute_numerical)\n",
    "#         output[col] = new_col\n",
    "\n",
    "#     # if percentage of True is above 0.5, fill in missing values with True, else False\n",
    "#     def mean_impute_TF(col):\n",
    "#         if col.mean() > 0.5:\n",
    "#             return col.fillna(True)\n",
    "#         return col.fillna(False)\n",
    "    \n",
    "#     # use above function to impute\n",
    "#     for col in ['PoolPrivateYN', 'ViewYN', 'AttachedGarageYN']:\n",
    "#         new_col = output.groupby('PostalCode')[col].transform(mean_impute_TF)\n",
    "#         output[col] = new_col\n",
    "\n",
    "#     # fill in other missing values for homes that are in their only zip code\n",
    "#     for col in ['BathroomsTotalInteger', 'YearBuilt', 'LivingArea']:\n",
    "#         output[col] = mean_impute_numerical(output[col])\n",
    "#     for col in ['PoolPrivateYN', 'ViewYN', 'AttachedGarageYN']:\n",
    "#         output[col] = mean_impute_TF(output[col])\n",
    "\n",
    "#     # fill in missing values for monthly zestimates with median\n",
    "#     for col in ['January', 'median_sale_price']:\n",
    "#         output[col] = median_impute(output[col])\n",
    "        \n",
    "#     output = output.dropna(subset=['ClosePrice']) # drop where ClosePrice is missing\n",
    "    \n",
    "#     return output"
   ]
  },
  {
   "cell_type": "code",
   "execution_count": 166,
   "metadata": {},
   "outputs": [],
   "source": [
    "def fill_missing(df):\n",
    "    output = df.copy()\n",
    "    def mean_impute_numerical(col):\n",
    "        return col.fillna(col.mean())\n",
    "    \n",
    "    def median_impute(col):\n",
    "        median = col.median()\n",
    "        return col.fillna(median)\n",
    "    \n",
    "    # impute these values based on the mean value of postal code\n",
    "    for col in ['BathroomsTotalInteger', 'YearBuilt', 'LivingArea', 'BedroomsTotal']:\n",
    "        new_col = output.groupby('PostalCode')[col].transform(mean_impute_numerical)\n",
    "        output[col] = new_col\n",
    "\n",
    "    # fill in other missing values for homes that are in their only zip code\n",
    "    for col in ['BathroomsTotalInteger', 'YearBuilt', 'LivingArea', 'BedroomsTotal']:\n",
    "        output[col] = mean_impute_numerical(output[col])\n",
    "\n",
    "    # fill in missing values for monthly zestimates with median\n",
    "    for col in ['mean_zhi', 'median_sale_price']:\n",
    "        output[col] = median_impute(output[col])\n",
    "    \n",
    "    output['Stories'] = mean_impute_numerical(output['Stories'])\n",
    "    output = output.dropna(subset=['ClosePrice']) # drop where ClosePrice is missing\n",
    "    \n",
    "    return output"
   ]
  },
  {
   "cell_type": "code",
   "execution_count": 167,
   "metadata": {},
   "outputs": [
    {
     "data": {
      "text/plain": [
       "<matplotlib.collections.PathCollection at 0x32e7d1c10>"
      ]
     },
     "execution_count": 167,
     "metadata": {},
     "output_type": "execute_result"
    },
    {
     "data": {
      "image/png": "[encoded data removed]",
      "text/plain": [
       "<Figure size 640x480 with 1 Axes>"
      ]
     },
     "metadata": {},
     "output_type": "display_data"
    }
   ],
   "source": [
    "plt.scatter(df['ClosePrice'], [0] * df['ClosePrice'].shape[0])"
   ]
  },
  {
   "cell_type": "code",
   "execution_count": 168,
   "metadata": {},
   "outputs": [],
   "source": [
    "def drop_outliers(df):\n",
    "    copy = df.copy()\n",
    "    iqr = np.percentile(df['ClosePrice'], 75) - np.percentile(df['ClosePrice'], 25)\n",
    "    print(copy.shape[0])\n",
    "    high_cutoff = df['ClosePrice'].median() + 1.5 * iqr\n",
    "    low_cutoff = 50000\n",
    "    print(f'high_cutoff: {high_cutoff}, low_cutoff: {low_cutoff}')\n",
    "    copy = copy[(copy['ClosePrice'] < high_cutoff) & (copy['ClosePrice'] > low_cutoff)]\n",
    "    print(copy.shape[0])\n",
    "    return copy"
   ]
  },
  {
   "cell_type": "code",
   "execution_count": 169,
   "metadata": {},
   "outputs": [],
   "source": [
    "def engineer_schools(df):\n",
    "    copy = df.copy()\n",
    "    # no need for elementary school district or middle school district because all values in those are missing\n",
    "    cols = ['ElementarySchool', 'MiddleOrJuniorSchool', 'HighSchool', 'HighSchoolDistrict']\n",
    "    sum = pd.Series(np.zeros(df.shape[0]), index=df.index)\n",
    "    for col in cols:\n",
    "        sum += (1- copy[col].isna())\n",
    "    copy['total_schools'] = sum\n",
    "    copy = copy.drop(columns=['ElementarySchool', 'ElementarySchoolDistrict','MiddleOrJuniorSchool', \n",
    "                              'MiddleOrJuniorSchoolDistrict', 'HighSchool', 'HighSchoolDistrict'])\n",
    "    return copy"
   ]
  },
  {
   "cell_type": "code",
   "execution_count": 170,
   "metadata": {},
   "outputs": [
    {
     "data": {
      "text/plain": [
       "0            1250.0\n",
       "1         1100000.0\n",
       "2           90000.0\n",
       "3           14500.0\n",
       "4          375000.0\n",
       "            ...    \n",
       "219067       2300.0\n",
       "219068       5000.0\n",
       "219069    1100000.0\n",
       "219070      35000.0\n",
       "219071      21500.0\n",
       "Name: ClosePrice, Length: 219072, dtype: float64"
      ]
     },
     "execution_count": 170,
     "metadata": {},
     "output_type": "execute_result"
    }
   ],
   "source": [
    "df['ClosePrice']"
   ]
  },
  {
   "cell_type": "code",
   "execution_count": 171,
   "metadata": {},
   "outputs": [],
   "source": [
    "def numerate_features(df):\n",
    "    output = df.copy()\n",
    "    extra_features = ['PoolPrivateYN', 'ViewYN', 'AttachedGarageYN', 'BasementYN', 'FireplaceYN', 'WaterfrontYN']\n",
    "    for col in extra_features:\n",
    "        output[col] = output[col].fillna(0).astype(int)\n",
    "    output['extra_features'] = output[extra_features].sum(axis=1)\n",
    "    output = output.drop(columns=extra_features)\n",
    "    return output\n",
    "\n",
    "def engineer_postal_code(df):\n",
    "    copy = df.copy()\n",
    "    def cut_off(value):\n",
    "        if len(value) > 5:\n",
    "            return int(value[:5]) # if the postal code is in the form XXXXX-XXXX, cut off the second part\n",
    "        return int(value)\n",
    "    copy.dropna(subset=['PostalCode'], inplace=True)\n",
    "    copy['PostalCode'] = copy['PostalCode'].astype(str)\n",
    "    copy['PostalCode'] = copy['PostalCode'].transform(cut_off)\n",
    "    return copy\n",
    "\n",
    "def log_scale(df, columns):\n",
    "    copy = df.copy()\n",
    "    for col in columns:\n",
    "        copy[col] = np.log1p(df[col])\n",
    "    return copy"
   ]
  },
  {
   "cell_type": "code",
   "execution_count": 172,
   "metadata": {},
   "outputs": [],
   "source": [
    "def preprocess(df):\n",
    "    output = df.copy()\n",
    "    output = fill_missing(output)\n",
    "    output = engineer_schools(output)\n",
    "    output = numerate_features(output)\n",
    "    output = engineer_postal_code(output)\n",
    "    output = drop_outliers(output)\n",
    "    output = log_scale(output, ['mean_zhi', 'median_sale_price', 'ClosePrice'])\n",
    "    return output"
   ]
  },
  {
   "cell_type": "code",
   "execution_count": 173,
   "metadata": {},
   "outputs": [],
   "source": [
    "from sklearn.preprocessing import StandardScaler\n",
    "from tensorflow.keras.layers import Dense, Dropout, BatchNormalization, LeakyReLU\n",
    "from tensorflow.keras.optimizers import Adam\n",
    "from tensorflow.keras.models import Sequential\n",
    "\n",
    "import kerastuner as kt"
   ]
  },
  {
   "cell_type": "code",
   "execution_count": 174,
   "metadata": {},
   "outputs": [
    {
     "name": "stdout",
     "output_type": "stream",
     "text": [
      "219010\n",
      "high_cutoff: 2185000.0, low_cutoff: 50000\n",
      "150025\n"
     ]
    },
    {
     "data": {
      "text/html": [
       "<div>\n",
       "<style scoped>\n",
       "    .dataframe tbody tr th:only-of-type {\n",
       "        vertical-align: middle;\n",
       "    }\n",
       "\n",
       "    .dataframe tbody tr th {\n",
       "        vertical-align: top;\n",
       "    }\n",
       "\n",
       "    .dataframe thead th {\n",
       "        text-align: right;\n",
       "    }\n",
       "</style>\n",
       "<table border=\"1\" class=\"dataframe\">\n",
       "  <thead>\n",
       "    <tr style=\"text-align: right;\">\n",
       "      <th></th>\n",
       "      <th>PostalCode</th>\n",
       "      <th>DaysOnMarket</th>\n",
       "      <th>BedroomsTotal</th>\n",
       "      <th>BathroomsTotalInteger</th>\n",
       "      <th>YearBuilt</th>\n",
       "      <th>LivingArea</th>\n",
       "      <th>ClosePrice</th>\n",
       "      <th>mean_zhi</th>\n",
       "      <th>median_sale_price</th>\n",
       "      <th>Stories</th>\n",
       "      <th>total_schools</th>\n",
       "      <th>extra_features</th>\n",
       "    </tr>\n",
       "  </thead>\n",
       "  <tbody>\n",
       "    <tr>\n",
       "      <th>1</th>\n",
       "      <td>91206</td>\n",
       "      <td>341</td>\n",
       "      <td>2.497653</td>\n",
       "      <td>0.000000</td>\n",
       "      <td>1964.156682</td>\n",
       "      <td>1502.004695</td>\n",
       "      <td>13.910822</td>\n",
       "      <td>14.222559</td>\n",
       "      <td>13.458837</td>\n",
       "      <td>1.367686</td>\n",
       "      <td>0.0</td>\n",
       "      <td>1</td>\n",
       "    </tr>\n",
       "    <tr>\n",
       "      <th>2</th>\n",
       "      <td>92252</td>\n",
       "      <td>1031</td>\n",
       "      <td>2.563830</td>\n",
       "      <td>1.752427</td>\n",
       "      <td>1982.643979</td>\n",
       "      <td>1417.855615</td>\n",
       "      <td>11.407576</td>\n",
       "      <td>12.804771</td>\n",
       "      <td>12.148184</td>\n",
       "      <td>1.367686</td>\n",
       "      <td>0.0</td>\n",
       "      <td>1</td>\n",
       "    </tr>\n",
       "    <tr>\n",
       "      <th>4</th>\n",
       "      <td>93510</td>\n",
       "      <td>992</td>\n",
       "      <td>3.562500</td>\n",
       "      <td>2.629630</td>\n",
       "      <td>1987.025000</td>\n",
       "      <td>2332.962500</td>\n",
       "      <td>12.834684</td>\n",
       "      <td>13.668556</td>\n",
       "      <td>13.286608</td>\n",
       "      <td>1.367686</td>\n",
       "      <td>0.0</td>\n",
       "      <td>1</td>\n",
       "    </tr>\n",
       "    <tr>\n",
       "      <th>5</th>\n",
       "      <td>93402</td>\n",
       "      <td>1017</td>\n",
       "      <td>2.900000</td>\n",
       "      <td>2.198198</td>\n",
       "      <td>1976.260870</td>\n",
       "      <td>1633.527273</td>\n",
       "      <td>11.775297</td>\n",
       "      <td>13.676087</td>\n",
       "      <td>13.217675</td>\n",
       "      <td>1.367686</td>\n",
       "      <td>0.0</td>\n",
       "      <td>0</td>\n",
       "    </tr>\n",
       "    <tr>\n",
       "      <th>6</th>\n",
       "      <td>92536</td>\n",
       "      <td>774</td>\n",
       "      <td>3.296296</td>\n",
       "      <td>2.316667</td>\n",
       "      <td>1996.388889</td>\n",
       "      <td>2052.537037</td>\n",
       "      <td>12.111767</td>\n",
       "      <td>13.258989</td>\n",
       "      <td>12.879020</td>\n",
       "      <td>1.367686</td>\n",
       "      <td>0.0</td>\n",
       "      <td>1</td>\n",
       "    </tr>\n",
       "    <tr>\n",
       "      <th>...</th>\n",
       "      <td>...</td>\n",
       "      <td>...</td>\n",
       "      <td>...</td>\n",
       "      <td>...</td>\n",
       "      <td>...</td>\n",
       "      <td>...</td>\n",
       "      <td>...</td>\n",
       "      <td>...</td>\n",
       "      <td>...</td>\n",
       "      <td>...</td>\n",
       "      <td>...</td>\n",
       "      <td>...</td>\n",
       "    </tr>\n",
       "    <tr>\n",
       "      <th>219061</th>\n",
       "      <td>92252</td>\n",
       "      <td>946</td>\n",
       "      <td>2.563830</td>\n",
       "      <td>1.752427</td>\n",
       "      <td>1982.643979</td>\n",
       "      <td>1417.855615</td>\n",
       "      <td>13.997833</td>\n",
       "      <td>12.804771</td>\n",
       "      <td>12.148184</td>\n",
       "      <td>1.367686</td>\n",
       "      <td>0.0</td>\n",
       "      <td>1</td>\n",
       "    </tr>\n",
       "    <tr>\n",
       "      <th>219064</th>\n",
       "      <td>93651</td>\n",
       "      <td>974</td>\n",
       "      <td>8.000000</td>\n",
       "      <td>5.000000</td>\n",
       "      <td>1968.000000</td>\n",
       "      <td>3597.000000</td>\n",
       "      <td>13.710151</td>\n",
       "      <td>13.213777</td>\n",
       "      <td>12.807655</td>\n",
       "      <td>1.000000</td>\n",
       "      <td>0.0</td>\n",
       "      <td>3</td>\n",
       "    </tr>\n",
       "    <tr>\n",
       "      <th>219065</th>\n",
       "      <td>91702</td>\n",
       "      <td>541</td>\n",
       "      <td>2.974026</td>\n",
       "      <td>2.312903</td>\n",
       "      <td>1979.325000</td>\n",
       "      <td>1562.951299</td>\n",
       "      <td>13.511700</td>\n",
       "      <td>13.515927</td>\n",
       "      <td>13.060490</td>\n",
       "      <td>1.367686</td>\n",
       "      <td>0.0</td>\n",
       "      <td>0</td>\n",
       "    </tr>\n",
       "    <tr>\n",
       "      <th>219066</th>\n",
       "      <td>91702</td>\n",
       "      <td>539</td>\n",
       "      <td>2.974026</td>\n",
       "      <td>2.312903</td>\n",
       "      <td>1979.325000</td>\n",
       "      <td>1562.951299</td>\n",
       "      <td>13.511700</td>\n",
       "      <td>13.515927</td>\n",
       "      <td>13.060490</td>\n",
       "      <td>1.367686</td>\n",
       "      <td>0.0</td>\n",
       "      <td>1</td>\n",
       "    </tr>\n",
       "    <tr>\n",
       "      <th>219069</th>\n",
       "      <td>92345</td>\n",
       "      <td>116</td>\n",
       "      <td>3.226788</td>\n",
       "      <td>2.234043</td>\n",
       "      <td>1991.390516</td>\n",
       "      <td>1738.642314</td>\n",
       "      <td>13.910822</td>\n",
       "      <td>13.004578</td>\n",
       "      <td>12.467479</td>\n",
       "      <td>1.367686</td>\n",
       "      <td>0.0</td>\n",
       "      <td>0</td>\n",
       "    </tr>\n",
       "  </tbody>\n",
       "</table>\n",
       "<p>150025 rows × 12 columns</p>\n",
       "</div>"
      ],
      "text/plain": [
       "        PostalCode  DaysOnMarket  BedroomsTotal  BathroomsTotalInteger  \\\n",
       "1            91206           341       2.497653               0.000000   \n",
       "2            92252          1031       2.563830               1.752427   \n",
       "4            93510           992       3.562500               2.629630   \n",
       "5            93402          1017       2.900000               2.198198   \n",
       "6            92536           774       3.296296               2.316667   \n",
       "...            ...           ...            ...                    ...   \n",
       "219061       92252           946       2.563830               1.752427   \n",
       "219064       93651           974       8.000000               5.000000   \n",
       "219065       91702           541       2.974026               2.312903   \n",
       "219066       91702           539       2.974026               2.312903   \n",
       "219069       92345           116       3.226788               2.234043   \n",
       "\n",
       "          YearBuilt   LivingArea  ClosePrice   mean_zhi  median_sale_price  \\\n",
       "1       1964.156682  1502.004695   13.910822  14.222559          13.458837   \n",
       "2       1982.643979  1417.855615   11.407576  12.804771          12.148184   \n",
       "4       1987.025000  2332.962500   12.834684  13.668556          13.286608   \n",
       "5       1976.260870  1633.527273   11.775297  13.676087          13.217675   \n",
       "6       1996.388889  2052.537037   12.111767  13.258989          12.879020   \n",
       "...             ...          ...         ...        ...                ...   \n",
       "219061  1982.643979  1417.855615   13.997833  12.804771          12.148184   \n",
       "219064  1968.000000  3597.000000   13.710151  13.213777          12.807655   \n",
       "219065  1979.325000  1562.951299   13.511700  13.515927          13.060490   \n",
       "219066  1979.325000  1562.951299   13.511700  13.515927          13.060490   \n",
       "219069  1991.390516  1738.642314   13.910822  13.004578          12.467479   \n",
       "\n",
       "         Stories  total_schools  extra_features  \n",
       "1       1.367686            0.0               1  \n",
       "2       1.367686            0.0               1  \n",
       "4       1.367686            0.0               1  \n",
       "5       1.367686            0.0               0  \n",
       "6       1.367686            0.0               1  \n",
       "...          ...            ...             ...  \n",
       "219061  1.367686            0.0               1  \n",
       "219064  1.000000            0.0               3  \n",
       "219065  1.367686            0.0               0  \n",
       "219066  1.367686            0.0               1  \n",
       "219069  1.367686            0.0               0  \n",
       "\n",
       "[150025 rows x 12 columns]"
      ]
     },
     "metadata": {},
     "output_type": "display_data"
    },
    {
     "data": {
      "text/plain": [
       "PostalCode               0\n",
       "DaysOnMarket             0\n",
       "BedroomsTotal            0\n",
       "BathroomsTotalInteger    0\n",
       "YearBuilt                0\n",
       "LivingArea               0\n",
       "ClosePrice               0\n",
       "mean_zhi                 0\n",
       "median_sale_price        0\n",
       "Stories                  0\n",
       "total_schools            0\n",
       "extra_features           0\n",
       "dtype: int64"
      ]
     },
     "execution_count": 174,
     "metadata": {},
     "output_type": "execute_result"
    }
   ],
   "source": [
    "target = \"ClosePrice\"  # Replace with actual target column name\n",
    "cleaned_df = preprocess(df)\n",
    "display(cleaned_df)\n",
    "cleaned_df.isna().sum()"
   ]
  },
  {
   "cell_type": "code",
   "execution_count": 175,
   "metadata": {},
   "outputs": [],
   "source": [
    "final_features = ['DaysOnMarket', 'BedroomsTotal', 'BathroomsTotalInteger', 'YearBuilt', \n",
    "                  'LivingArea', 'total_schools', 'Stories', 'extra_features', 'mean_zhi', 'median_sale_price']\n",
    "\n",
    "X = cleaned_df[final_features]\n",
    "y = cleaned_df['ClosePrice']\n",
    "\n",
    "# Train-test split\n",
    "X_train, X_test, y_train, y_test = train_test_split(X, y, test_size=0.2, random_state=42)"
   ]
  },
  {
   "cell_type": "code",
   "execution_count": 176,
   "metadata": {},
   "outputs": [],
   "source": [
    "scaler = StandardScaler()\n",
    "X_train = scaler.fit_transform(X_train)\n",
    "X_test = scaler.transform(X_test)"
   ]
  },
  {
   "cell_type": "code",
   "execution_count": 177,
   "metadata": {},
   "outputs": [],
   "source": [
    "def r2_score(y_true, y_pred):\n",
    "    ss_res = tf.reduce_sum(tf.square(y_true - y_pred))  # Residual sum of squares\n",
    "    mean_y = tf.reduce_mean(y_true)\n",
    "    ss_tot = tf.reduce_sum(tf.square(y_true - mean_y))  # Total sum of squares\n",
    "    return 1 - (ss_res / (ss_tot + tf.keras.backend.epsilon()))  # Avoid division by zero"
   ]
  },
  {
   "cell_type": "code",
   "execution_count": 178,
   "metadata": {},
   "outputs": [],
   "source": [
    "# def build_model(hp):\n",
    "#     model = Sequential()\n",
    "    \n",
    "#     # Input layer with tunable number of neurons\n",
    "#     model.add(Dense(\n",
    "#         units=hp.Int('units_input', min_value=8, max_value=64, step=8),\n",
    "#         activation='relu',\n",
    "#         input_shape=(X_train.shape[1],)\n",
    "#     ))\n",
    "\n",
    "#     # Hidden layers with tunable parameters\n",
    "#     for i in range(hp.Int(\"num_layers\", 2, 5)):  # Tune between 2 to 5 hidden layers\n",
    "#         model.add(Dense(\n",
    "#             units=hp.Int(f'units_{i}', min_value=16, max_value=64, step=16),\n",
    "#             activation='relu'\n",
    "#         ))\n",
    "#         if hp.Boolean(f'batch_norm_{i}'):  # Optionally add BatchNormalization\n",
    "#             model.add(BatchNormalization())\n",
    "\n",
    "#         if hp.Boolean(f'dropout_{i}'):  # Optionally add Dropout\n",
    "#             model.add(Dropout(rate=hp.Float(f'dropout_rate_{i}', 0.1, 0.5, step=0.1)))\n",
    "\n",
    "#     # Output layer (regression - no activation)\n",
    "#     model.add(Dense(1))\n",
    "\n",
    "#     # Compile model with tunable learning rate\n",
    "#     model.compile(\n",
    "#         optimizer=tf.keras.optimizers.Adam(\n",
    "#             learning_rate=hp.Choice('learning_rate', [0.001, 0.005, 0.01])\n",
    "#         ),\n",
    "#         loss='mae',\n",
    "#         metrics=['mae', r2_score]\n",
    "#     )\n",
    "    \n",
    "#     return model\n",
    "\n",
    "# tuner = kt.BayesianOptimization(\n",
    "#     build_model,\n",
    "#     objective=\"val_mae\",  # Optimizing for Mean Absolute Error (MAE) for regression\n",
    "#     max_trials=10,  # Number of different hyperparameter sets to try\n",
    "#     executions_per_trial=1,  # Number of models trained per trial\n",
    "#     directory=\"bayesian_tuning\",\n",
    "#     project_name=\"regression_model\"\n",
    "# )\n",
    "\n",
    "# tuner.search(X_train, y_train, \n",
    "#              epochs=60, \n",
    "#              validation_data=(X_test, y_test), \n",
    "#              batch_size=32)\n",
    "\n",
    "# best_hps = tuner.get_best_hyperparameters(num_trials=1)[0]\n",
    "# best_model = tuner.hypermodel.build(best_hps)"
   ]
  },
  {
   "cell_type": "code",
   "execution_count": 179,
   "metadata": {},
   "outputs": [],
   "source": [
    "# optimizer = Adam(learning_rate=0.001)\n",
    "# best_model.compile(loss='mae', metrics=['mae', r2_score, mape_loss])\n",
    "# history = best_model.fit(X_train, y_train, \n",
    "#                          epochs=60, \n",
    "#                          validation_data=(X_test, y_test), \n",
    "#                          batch_size=32)\n",
    "\n",
    "# loss, mae, r2, mape = best_model.evaluate(X_test, y_test)\n",
    "# print(f\"Final MAE: {mae:.2f}\")\n",
    "# print(f\"Final R²: {r2:.2f}\")\n",
    "# print(f\"Final MAPE: {mape:.2f}\")"
   ]
  },
  {
   "cell_type": "code",
   "execution_count": 180,
   "metadata": {},
   "outputs": [
    {
     "data": {
      "text/plain": [
       "(array([ 1136.,  1409.,  2079.,  3178.,  6539., 17269., 34530., 40129.,\n",
       "        26733., 17023.]),\n",
       " array([10.8277663 , 11.20465657, 11.58154685, 11.95843713, 12.33532741,\n",
       "        12.71221768, 13.08910796, 13.46599824, 13.84288852, 14.2197788 ,\n",
       "        14.59666907]),\n",
       " <BarContainer object of 10 artists>)"
      ]
     },
     "execution_count": 180,
     "metadata": {},
     "output_type": "execute_result"
    },
    {
     "data": {
      "image/png": "[encoded data removed]",
      "text/plain": [
       "<Figure size 640x480 with 1 Axes>"
      ]
     },
     "metadata": {},
     "output_type": "display_data"
    }
   ],
   "source": [
    "plt.hist(cleaned_df['ClosePrice'])"
   ]
  },
  {
   "cell_type": "code",
   "execution_count": 181,
   "metadata": {},
   "outputs": [
    {
     "name": "stdout",
     "output_type": "stream",
     "text": [
      "Epoch 1/60\n"
     ]
    },
    {
     "name": "stderr",
     "output_type": "stream",
     "text": [
      "/opt/anaconda3/lib/python3.12/site-packages/keras/src/layers/core/dense.py:87: UserWarning: Do not pass an `input_shape`/`input_dim` argument to a layer. When using Sequential models, prefer using an `Input(shape)` object as the first layer in the model instead.\n",
      "  super().__init__(activity_regularizer=activity_regularizer, **kwargs)\n"
     ]
    },
    {
     "name": "stdout",
     "output_type": "stream",
     "text": [
      "\u001b[1m3751/3751\u001b[0m \u001b[32m━━━━━━━━━━━━━━━━━━━━\u001b[0m\u001b[37m\u001b[0m \u001b[1m4s\u001b[0m 878us/step - loss: 1.5649 - mae: 1.5649 - r2_score: -25.3696 - val_loss: 0.2504 - val_mae: 0.2504 - val_r2_score: 0.6093\n",
      "Epoch 2/60\n",
      "\u001b[1m 365/3751\u001b[0m \u001b[32m━\u001b[0m\u001b[37m━━━━━━━━━━━━━━━━━━━\u001b[0m \u001b[1m2s\u001b[0m 692us/step - loss: 0.2807 - mae: 0.2807 - r2_score: 0.5714"
     ]
    },
    {
     "ename": "KeyboardInterrupt",
     "evalue": "",
     "output_type": "error",
     "traceback": [
      "\u001b[0;31m---------------------------------------------------------------------------\u001b[0m",
      "\u001b[0;31mKeyboardInterrupt\u001b[0m                         Traceback (most recent call last)",
      "Cell \u001b[0;32mIn[181], line 19\u001b[0m\n\u001b[1;32m     16\u001b[0m model\u001b[38;5;241m.\u001b[39mcompile(optimizer\u001b[38;5;241m=\u001b[39moptimizer, loss\u001b[38;5;241m=\u001b[39m\u001b[38;5;124m'\u001b[39m\u001b[38;5;124mmae\u001b[39m\u001b[38;5;124m'\u001b[39m, metrics\u001b[38;5;241m=\u001b[39m[\u001b[38;5;124m'\u001b[39m\u001b[38;5;124mmae\u001b[39m\u001b[38;5;124m'\u001b[39m, r2_score])\n\u001b[1;32m     18\u001b[0m \u001b[38;5;66;03m# Train model\u001b[39;00m\n\u001b[0;32m---> 19\u001b[0m history \u001b[38;5;241m=\u001b[39m model\u001b[38;5;241m.\u001b[39mfit(X_train, y_train, validation_data\u001b[38;5;241m=\u001b[39m(X_test, y_test), epochs\u001b[38;5;241m=\u001b[39m\u001b[38;5;241m60\u001b[39m, batch_size\u001b[38;5;241m=\u001b[39m\u001b[38;5;241m32\u001b[39m, verbose\u001b[38;5;241m=\u001b[39m\u001b[38;5;241m1\u001b[39m)\n\u001b[1;32m     21\u001b[0m \u001b[38;5;66;03m# Evaluate\u001b[39;00m\n\u001b[1;32m     22\u001b[0m loss, mae, r2 \u001b[38;5;241m=\u001b[39m model\u001b[38;5;241m.\u001b[39mevaluate(X_test, y_test)\n",
      "File \u001b[0;32m/opt/anaconda3/lib/python3.12/site-packages/keras/src/utils/traceback_utils.py:117\u001b[0m, in \u001b[0;36mfilter_traceback.<locals>.error_handler\u001b[0;34m(*args, **kwargs)\u001b[0m\n\u001b[1;32m    115\u001b[0m filtered_tb \u001b[38;5;241m=\u001b[39m \u001b[38;5;28;01mNone\u001b[39;00m\n\u001b[1;32m    116\u001b[0m \u001b[38;5;28;01mtry\u001b[39;00m:\n\u001b[0;32m--> 117\u001b[0m     \u001b[38;5;28;01mreturn\u001b[39;00m fn(\u001b[38;5;241m*\u001b[39margs, \u001b[38;5;241m*\u001b[39m\u001b[38;5;241m*\u001b[39mkwargs)\n\u001b[1;32m    118\u001b[0m \u001b[38;5;28;01mexcept\u001b[39;00m \u001b[38;5;167;01mException\u001b[39;00m \u001b[38;5;28;01mas\u001b[39;00m e:\n\u001b[1;32m    119\u001b[0m     filtered_tb \u001b[38;5;241m=\u001b[39m _process_traceback_frames(e\u001b[38;5;241m.\u001b[39m__traceback__)\n",
      "File \u001b[0;32m/opt/anaconda3/lib/python3.12/site-packages/keras/src/backend/tensorflow/trainer.py:371\u001b[0m, in \u001b[0;36mTensorFlowTrainer.fit\u001b[0;34m(self, x, y, batch_size, epochs, verbose, callbacks, validation_split, validation_data, shuffle, class_weight, sample_weight, initial_epoch, steps_per_epoch, validation_steps, validation_batch_size, validation_freq)\u001b[0m\n\u001b[1;32m    369\u001b[0m \u001b[38;5;28;01mfor\u001b[39;00m step, iterator \u001b[38;5;129;01min\u001b[39;00m epoch_iterator:\n\u001b[1;32m    370\u001b[0m     callbacks\u001b[38;5;241m.\u001b[39mon_train_batch_begin(step)\n\u001b[0;32m--> 371\u001b[0m     logs \u001b[38;5;241m=\u001b[39m \u001b[38;5;28mself\u001b[39m\u001b[38;5;241m.\u001b[39mtrain_function(iterator)\n\u001b[1;32m    372\u001b[0m     callbacks\u001b[38;5;241m.\u001b[39mon_train_batch_end(step, logs)\n\u001b[1;32m    373\u001b[0m     \u001b[38;5;28;01mif\u001b[39;00m \u001b[38;5;28mself\u001b[39m\u001b[38;5;241m.\u001b[39mstop_training:\n",
      "File \u001b[0;32m/opt/anaconda3/lib/python3.12/site-packages/keras/src/backend/tensorflow/trainer.py:219\u001b[0m, in \u001b[0;36mTensorFlowTrainer._make_function.<locals>.function\u001b[0;34m(iterator)\u001b[0m\n\u001b[1;32m    215\u001b[0m \u001b[38;5;28;01mdef\u001b[39;00m \u001b[38;5;21mfunction\u001b[39m(iterator):\n\u001b[1;32m    216\u001b[0m     \u001b[38;5;28;01mif\u001b[39;00m \u001b[38;5;28misinstance\u001b[39m(\n\u001b[1;32m    217\u001b[0m         iterator, (tf\u001b[38;5;241m.\u001b[39mdata\u001b[38;5;241m.\u001b[39mIterator, tf\u001b[38;5;241m.\u001b[39mdistribute\u001b[38;5;241m.\u001b[39mDistributedIterator)\n\u001b[1;32m    218\u001b[0m     ):\n\u001b[0;32m--> 219\u001b[0m         opt_outputs \u001b[38;5;241m=\u001b[39m multi_step_on_iterator(iterator)\n\u001b[1;32m    220\u001b[0m         \u001b[38;5;28;01mif\u001b[39;00m \u001b[38;5;129;01mnot\u001b[39;00m opt_outputs\u001b[38;5;241m.\u001b[39mhas_value():\n\u001b[1;32m    221\u001b[0m             \u001b[38;5;28;01mraise\u001b[39;00m \u001b[38;5;167;01mStopIteration\u001b[39;00m\n",
      "File \u001b[0;32m/opt/anaconda3/lib/python3.12/site-packages/tensorflow/python/util/traceback_utils.py:150\u001b[0m, in \u001b[0;36mfilter_traceback.<locals>.error_handler\u001b[0;34m(*args, **kwargs)\u001b[0m\n\u001b[1;32m    148\u001b[0m filtered_tb \u001b[38;5;241m=\u001b[39m \u001b[38;5;28;01mNone\u001b[39;00m\n\u001b[1;32m    149\u001b[0m \u001b[38;5;28;01mtry\u001b[39;00m:\n\u001b[0;32m--> 150\u001b[0m   \u001b[38;5;28;01mreturn\u001b[39;00m fn(\u001b[38;5;241m*\u001b[39margs, \u001b[38;5;241m*\u001b[39m\u001b[38;5;241m*\u001b[39mkwargs)\n\u001b[1;32m    151\u001b[0m \u001b[38;5;28;01mexcept\u001b[39;00m \u001b[38;5;167;01mException\u001b[39;00m \u001b[38;5;28;01mas\u001b[39;00m e:\n\u001b[1;32m    152\u001b[0m   filtered_tb \u001b[38;5;241m=\u001b[39m _process_traceback_frames(e\u001b[38;5;241m.\u001b[39m__traceback__)\n",
      "File \u001b[0;32m/opt/anaconda3/lib/python3.12/site-packages/tensorflow/python/eager/polymorphic_function/polymorphic_function.py:833\u001b[0m, in \u001b[0;36mFunction.__call__\u001b[0;34m(self, *args, **kwds)\u001b[0m\n\u001b[1;32m    830\u001b[0m compiler \u001b[38;5;241m=\u001b[39m \u001b[38;5;124m\"\u001b[39m\u001b[38;5;124mxla\u001b[39m\u001b[38;5;124m\"\u001b[39m \u001b[38;5;28;01mif\u001b[39;00m \u001b[38;5;28mself\u001b[39m\u001b[38;5;241m.\u001b[39m_jit_compile \u001b[38;5;28;01melse\u001b[39;00m \u001b[38;5;124m\"\u001b[39m\u001b[38;5;124mnonXla\u001b[39m\u001b[38;5;124m\"\u001b[39m\n\u001b[1;32m    832\u001b[0m \u001b[38;5;28;01mwith\u001b[39;00m OptionalXlaContext(\u001b[38;5;28mself\u001b[39m\u001b[38;5;241m.\u001b[39m_jit_compile):\n\u001b[0;32m--> 833\u001b[0m   result \u001b[38;5;241m=\u001b[39m \u001b[38;5;28mself\u001b[39m\u001b[38;5;241m.\u001b[39m_call(\u001b[38;5;241m*\u001b[39margs, \u001b[38;5;241m*\u001b[39m\u001b[38;5;241m*\u001b[39mkwds)\n\u001b[1;32m    835\u001b[0m new_tracing_count \u001b[38;5;241m=\u001b[39m \u001b[38;5;28mself\u001b[39m\u001b[38;5;241m.\u001b[39mexperimental_get_tracing_count()\n\u001b[1;32m    836\u001b[0m without_tracing \u001b[38;5;241m=\u001b[39m (tracing_count \u001b[38;5;241m==\u001b[39m new_tracing_count)\n",
      "File \u001b[0;32m/opt/anaconda3/lib/python3.12/site-packages/tensorflow/python/eager/polymorphic_function/polymorphic_function.py:878\u001b[0m, in \u001b[0;36mFunction._call\u001b[0;34m(self, *args, **kwds)\u001b[0m\n\u001b[1;32m    875\u001b[0m \u001b[38;5;28mself\u001b[39m\u001b[38;5;241m.\u001b[39m_lock\u001b[38;5;241m.\u001b[39mrelease()\n\u001b[1;32m    876\u001b[0m \u001b[38;5;66;03m# In this case we have not created variables on the first call. So we can\u001b[39;00m\n\u001b[1;32m    877\u001b[0m \u001b[38;5;66;03m# run the first trace but we should fail if variables are created.\u001b[39;00m\n\u001b[0;32m--> 878\u001b[0m results \u001b[38;5;241m=\u001b[39m tracing_compilation\u001b[38;5;241m.\u001b[39mcall_function(\n\u001b[1;32m    879\u001b[0m     args, kwds, \u001b[38;5;28mself\u001b[39m\u001b[38;5;241m.\u001b[39m_variable_creation_config\n\u001b[1;32m    880\u001b[0m )\n\u001b[1;32m    881\u001b[0m \u001b[38;5;28;01mif\u001b[39;00m \u001b[38;5;28mself\u001b[39m\u001b[38;5;241m.\u001b[39m_created_variables:\n\u001b[1;32m    882\u001b[0m   \u001b[38;5;28;01mraise\u001b[39;00m \u001b[38;5;167;01mValueError\u001b[39;00m(\u001b[38;5;124m\"\u001b[39m\u001b[38;5;124mCreating variables on a non-first call to a function\u001b[39m\u001b[38;5;124m\"\u001b[39m\n\u001b[1;32m    883\u001b[0m                    \u001b[38;5;124m\"\u001b[39m\u001b[38;5;124m decorated with tf.function.\u001b[39m\u001b[38;5;124m\"\u001b[39m)\n",
      "File \u001b[0;32m/opt/anaconda3/lib/python3.12/site-packages/tensorflow/python/eager/polymorphic_function/tracing_compilation.py:139\u001b[0m, in \u001b[0;36mcall_function\u001b[0;34m(args, kwargs, tracing_options)\u001b[0m\n\u001b[1;32m    137\u001b[0m bound_args \u001b[38;5;241m=\u001b[39m function\u001b[38;5;241m.\u001b[39mfunction_type\u001b[38;5;241m.\u001b[39mbind(\u001b[38;5;241m*\u001b[39margs, \u001b[38;5;241m*\u001b[39m\u001b[38;5;241m*\u001b[39mkwargs)\n\u001b[1;32m    138\u001b[0m flat_inputs \u001b[38;5;241m=\u001b[39m function\u001b[38;5;241m.\u001b[39mfunction_type\u001b[38;5;241m.\u001b[39munpack_inputs(bound_args)\n\u001b[0;32m--> 139\u001b[0m \u001b[38;5;28;01mreturn\u001b[39;00m function\u001b[38;5;241m.\u001b[39m_call_flat(  \u001b[38;5;66;03m# pylint: disable=protected-access\u001b[39;00m\n\u001b[1;32m    140\u001b[0m     flat_inputs, captured_inputs\u001b[38;5;241m=\u001b[39mfunction\u001b[38;5;241m.\u001b[39mcaptured_inputs\n\u001b[1;32m    141\u001b[0m )\n",
      "File \u001b[0;32m/opt/anaconda3/lib/python3.12/site-packages/tensorflow/python/eager/polymorphic_function/concrete_function.py:1322\u001b[0m, in \u001b[0;36mConcreteFunction._call_flat\u001b[0;34m(self, tensor_inputs, captured_inputs)\u001b[0m\n\u001b[1;32m   1318\u001b[0m possible_gradient_type \u001b[38;5;241m=\u001b[39m gradients_util\u001b[38;5;241m.\u001b[39mPossibleTapeGradientTypes(args)\n\u001b[1;32m   1319\u001b[0m \u001b[38;5;28;01mif\u001b[39;00m (possible_gradient_type \u001b[38;5;241m==\u001b[39m gradients_util\u001b[38;5;241m.\u001b[39mPOSSIBLE_GRADIENT_TYPES_NONE\n\u001b[1;32m   1320\u001b[0m     \u001b[38;5;129;01mand\u001b[39;00m executing_eagerly):\n\u001b[1;32m   1321\u001b[0m   \u001b[38;5;66;03m# No tape is watching; skip to running the function.\u001b[39;00m\n\u001b[0;32m-> 1322\u001b[0m   \u001b[38;5;28;01mreturn\u001b[39;00m \u001b[38;5;28mself\u001b[39m\u001b[38;5;241m.\u001b[39m_inference_function\u001b[38;5;241m.\u001b[39mcall_preflattened(args)\n\u001b[1;32m   1323\u001b[0m forward_backward \u001b[38;5;241m=\u001b[39m \u001b[38;5;28mself\u001b[39m\u001b[38;5;241m.\u001b[39m_select_forward_and_backward_functions(\n\u001b[1;32m   1324\u001b[0m     args,\n\u001b[1;32m   1325\u001b[0m     possible_gradient_type,\n\u001b[1;32m   1326\u001b[0m     executing_eagerly)\n\u001b[1;32m   1327\u001b[0m forward_function, args_with_tangents \u001b[38;5;241m=\u001b[39m forward_backward\u001b[38;5;241m.\u001b[39mforward()\n",
      "File \u001b[0;32m/opt/anaconda3/lib/python3.12/site-packages/tensorflow/python/eager/polymorphic_function/atomic_function.py:216\u001b[0m, in \u001b[0;36mAtomicFunction.call_preflattened\u001b[0;34m(self, args)\u001b[0m\n\u001b[1;32m    214\u001b[0m \u001b[38;5;28;01mdef\u001b[39;00m \u001b[38;5;21mcall_preflattened\u001b[39m(\u001b[38;5;28mself\u001b[39m, args: Sequence[core\u001b[38;5;241m.\u001b[39mTensor]) \u001b[38;5;241m-\u001b[39m\u001b[38;5;241m>\u001b[39m Any:\n\u001b[1;32m    215\u001b[0m \u001b[38;5;250m  \u001b[39m\u001b[38;5;124;03m\"\"\"Calls with flattened tensor inputs and returns the structured output.\"\"\"\u001b[39;00m\n\u001b[0;32m--> 216\u001b[0m   flat_outputs \u001b[38;5;241m=\u001b[39m \u001b[38;5;28mself\u001b[39m\u001b[38;5;241m.\u001b[39mcall_flat(\u001b[38;5;241m*\u001b[39margs)\n\u001b[1;32m    217\u001b[0m   \u001b[38;5;28;01mreturn\u001b[39;00m \u001b[38;5;28mself\u001b[39m\u001b[38;5;241m.\u001b[39mfunction_type\u001b[38;5;241m.\u001b[39mpack_output(flat_outputs)\n",
      "File \u001b[0;32m/opt/anaconda3/lib/python3.12/site-packages/tensorflow/python/eager/polymorphic_function/atomic_function.py:251\u001b[0m, in \u001b[0;36mAtomicFunction.call_flat\u001b[0;34m(self, *args)\u001b[0m\n\u001b[1;32m    249\u001b[0m \u001b[38;5;28;01mwith\u001b[39;00m record\u001b[38;5;241m.\u001b[39mstop_recording():\n\u001b[1;32m    250\u001b[0m   \u001b[38;5;28;01mif\u001b[39;00m \u001b[38;5;28mself\u001b[39m\u001b[38;5;241m.\u001b[39m_bound_context\u001b[38;5;241m.\u001b[39mexecuting_eagerly():\n\u001b[0;32m--> 251\u001b[0m     outputs \u001b[38;5;241m=\u001b[39m \u001b[38;5;28mself\u001b[39m\u001b[38;5;241m.\u001b[39m_bound_context\u001b[38;5;241m.\u001b[39mcall_function(\n\u001b[1;32m    252\u001b[0m         \u001b[38;5;28mself\u001b[39m\u001b[38;5;241m.\u001b[39mname,\n\u001b[1;32m    253\u001b[0m         \u001b[38;5;28mlist\u001b[39m(args),\n\u001b[1;32m    254\u001b[0m         \u001b[38;5;28mlen\u001b[39m(\u001b[38;5;28mself\u001b[39m\u001b[38;5;241m.\u001b[39mfunction_type\u001b[38;5;241m.\u001b[39mflat_outputs),\n\u001b[1;32m    255\u001b[0m     )\n\u001b[1;32m    256\u001b[0m   \u001b[38;5;28;01melse\u001b[39;00m:\n\u001b[1;32m    257\u001b[0m     outputs \u001b[38;5;241m=\u001b[39m make_call_op_in_graph(\n\u001b[1;32m    258\u001b[0m         \u001b[38;5;28mself\u001b[39m,\n\u001b[1;32m    259\u001b[0m         \u001b[38;5;28mlist\u001b[39m(args),\n\u001b[1;32m    260\u001b[0m         \u001b[38;5;28mself\u001b[39m\u001b[38;5;241m.\u001b[39m_bound_context\u001b[38;5;241m.\u001b[39mfunction_call_options\u001b[38;5;241m.\u001b[39mas_attrs(),\n\u001b[1;32m    261\u001b[0m     )\n",
      "File \u001b[0;32m/opt/anaconda3/lib/python3.12/site-packages/tensorflow/python/eager/context.py:1552\u001b[0m, in \u001b[0;36mContext.call_function\u001b[0;34m(self, name, tensor_inputs, num_outputs)\u001b[0m\n\u001b[1;32m   1550\u001b[0m cancellation_context \u001b[38;5;241m=\u001b[39m cancellation\u001b[38;5;241m.\u001b[39mcontext()\n\u001b[1;32m   1551\u001b[0m \u001b[38;5;28;01mif\u001b[39;00m cancellation_context \u001b[38;5;129;01mis\u001b[39;00m \u001b[38;5;28;01mNone\u001b[39;00m:\n\u001b[0;32m-> 1552\u001b[0m   outputs \u001b[38;5;241m=\u001b[39m execute\u001b[38;5;241m.\u001b[39mexecute(\n\u001b[1;32m   1553\u001b[0m       name\u001b[38;5;241m.\u001b[39mdecode(\u001b[38;5;124m\"\u001b[39m\u001b[38;5;124mutf-8\u001b[39m\u001b[38;5;124m\"\u001b[39m),\n\u001b[1;32m   1554\u001b[0m       num_outputs\u001b[38;5;241m=\u001b[39mnum_outputs,\n\u001b[1;32m   1555\u001b[0m       inputs\u001b[38;5;241m=\u001b[39mtensor_inputs,\n\u001b[1;32m   1556\u001b[0m       attrs\u001b[38;5;241m=\u001b[39mattrs,\n\u001b[1;32m   1557\u001b[0m       ctx\u001b[38;5;241m=\u001b[39m\u001b[38;5;28mself\u001b[39m,\n\u001b[1;32m   1558\u001b[0m   )\n\u001b[1;32m   1559\u001b[0m \u001b[38;5;28;01melse\u001b[39;00m:\n\u001b[1;32m   1560\u001b[0m   outputs \u001b[38;5;241m=\u001b[39m execute\u001b[38;5;241m.\u001b[39mexecute_with_cancellation(\n\u001b[1;32m   1561\u001b[0m       name\u001b[38;5;241m.\u001b[39mdecode(\u001b[38;5;124m\"\u001b[39m\u001b[38;5;124mutf-8\u001b[39m\u001b[38;5;124m\"\u001b[39m),\n\u001b[1;32m   1562\u001b[0m       num_outputs\u001b[38;5;241m=\u001b[39mnum_outputs,\n\u001b[0;32m   (...)\u001b[0m\n\u001b[1;32m   1566\u001b[0m       cancellation_manager\u001b[38;5;241m=\u001b[39mcancellation_context,\n\u001b[1;32m   1567\u001b[0m   )\n",
      "File \u001b[0;32m/opt/anaconda3/lib/python3.12/site-packages/tensorflow/python/eager/execute.py:53\u001b[0m, in \u001b[0;36mquick_execute\u001b[0;34m(op_name, num_outputs, inputs, attrs, ctx, name)\u001b[0m\n\u001b[1;32m     51\u001b[0m \u001b[38;5;28;01mtry\u001b[39;00m:\n\u001b[1;32m     52\u001b[0m   ctx\u001b[38;5;241m.\u001b[39mensure_initialized()\n\u001b[0;32m---> 53\u001b[0m   tensors \u001b[38;5;241m=\u001b[39m pywrap_tfe\u001b[38;5;241m.\u001b[39mTFE_Py_Execute(ctx\u001b[38;5;241m.\u001b[39m_handle, device_name, op_name,\n\u001b[1;32m     54\u001b[0m                                       inputs, attrs, num_outputs)\n\u001b[1;32m     55\u001b[0m \u001b[38;5;28;01mexcept\u001b[39;00m core\u001b[38;5;241m.\u001b[39m_NotOkStatusException \u001b[38;5;28;01mas\u001b[39;00m e:\n\u001b[1;32m     56\u001b[0m   \u001b[38;5;28;01mif\u001b[39;00m name \u001b[38;5;129;01mis\u001b[39;00m \u001b[38;5;129;01mnot\u001b[39;00m \u001b[38;5;28;01mNone\u001b[39;00m:\n",
      "\u001b[0;31mKeyboardInterrupt\u001b[0m: "
     ]
    }
   ],
   "source": [
    "model = Sequential([\n",
    "    Dense(16, activation='relu', input_shape=(X_train.shape[1],)),\n",
    "    Dense(16, activation='relu'),\n",
    "    BatchNormalization(),\n",
    "    Dense(32, activation='relu'),\n",
    "    Dense(64, activation='relu'),\n",
    "    Dropout(0.25),\n",
    "    Dense(64, activation='relu'),\n",
    "    Dense(16, activation='relu'),\n",
    "    Dense(16, activation='relu'),\n",
    "    Dense(1)  # No activation for regression\n",
    "])\n",
    "\n",
    "# Compile model with R² and MAE\n",
    "optimizer = Adam(learning_rate=0.001)\n",
    "model.compile(optimizer=optimizer, loss='mae', metrics=['mae', r2_score])\n",
    "\n",
    "# Train model\n",
    "history = model.fit(X_train, y_train, validation_data=(X_test, y_test), epochs=60, batch_size=32, verbose=1)\n",
    "\n",
    "# Evaluate\n",
    "loss, mae, r2 = model.evaluate(X_test, y_test)\n",
    "predictions = np.expm1(model.predict(X_test)).ravel()\n",
    "actual = np.expm1(y_test).to_numpy()\n",
    "real_mae = np.abs(actual - predictions).mean()\n",
    "mape = np.abs((actual - predictions) / actual).mean() * 100\n",
    "\n",
    "print(f\"Final MAE: {real_mae}\")\n",
    "print(f\"Final R2: {r2:.2f}\")\n",
    "print(f\"Final MAPE: {mape:.2f}\")\n",
    "\n",
    "# Plot MAE & R²\n",
    "plt.figure(figsize=(12, 5))\n",
    "\n",
    "plt.subplot(1, 2, 1)\n",
    "plt.plot(history.history['mae'], label='Train MAE')\n",
    "plt.plot(history.history['val_mae'], label='Validation MAE')\n",
    "plt.xlabel('Epochs')\n",
    "plt.ylabel('MAE')\n",
    "plt.legend()\n",
    "plt.title('Training Progress (MAE)')\n",
    "\n",
    "plt.subplot(1, 2, 2)\n",
    "plt.plot(history.history['r2_score'], label='Train R2')\n",
    "plt.plot(history.history['val_r2_score'], label='Validation R2')\n",
    "plt.xlabel('Epochs')\n",
    "plt.ylabel('R2 Score')\n",
    "plt.legend()\n",
    "plt.title('Training Progress (R2)')\n",
    "\n",
    "plt.show()\n"
   ]
  }
 ],
 "metadata": {
  "kernelspec": {
   "display_name": "base",
   "language": "python",
   "name": "python3"
  },
  "language_info": {
   "codemirror_mode": {
    "name": "ipython",
    "version": 3
   },
   "file_extension": ".py",
   "mimetype": "text/x-python",
   "name": "python",
   "nbconvert_exporter": "python",
   "pygments_lexer": "ipython3",
   "version": "3.12.2"
  }
 },
 "nbformat": 4,
 "nbformat_minor": 2
}
